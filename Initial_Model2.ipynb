{
 "cells": [
  {
   "cell_type": "code",
   "execution_count": 1,
   "metadata": {
    "collapsed": true
   },
   "outputs": [],
   "source": [
    "import numpy as np\n",
    "import pandas as pd\n",
    "from collections import defaultdict\n",
    "from matplotlib import pyplot as plt\n",
    "%matplotlib inline"
   ]
  },
  {
   "cell_type": "code",
   "execution_count": 52,
   "metadata": {
    "collapsed": true
   },
   "outputs": [],
   "source": [
    "from sklearn.tree import DecisionTreeRegressor"
   ]
  },
  {
   "cell_type": "code",
   "execution_count": 87,
   "metadata": {
    "collapsed": true
   },
   "outputs": [],
   "source": [
    "from sklearn import linear_model"
   ]
  },
  {
   "cell_type": "code",
   "execution_count": 247,
   "metadata": {
    "collapsed": false
   },
   "outputs": [],
   "source": [
    "#df = pd.read_csv(\"Dataset/new_college2.csv\") ## avg\n",
    "df = pd.read_csv(\"Dataset/new_college3.csv\") ## max"
   ]
  },
  {
   "cell_type": "code",
   "execution_count": 248,
   "metadata": {
    "collapsed": false
   },
   "outputs": [
    {
     "data": {
      "text/html": [
       "<div>\n",
       "<table border=\"1\" class=\"dataframe\">\n",
       "  <thead>\n",
       "    <tr style=\"text-align: right;\">\n",
       "      <th></th>\n",
       "      <th>Name</th>\n",
       "      <th>G</th>\n",
       "      <th>FGA</th>\n",
       "      <th>3PA</th>\n",
       "      <th>FTA</th>\n",
       "      <th>ORB</th>\n",
       "      <th>TRB.1</th>\n",
       "      <th>AST.1</th>\n",
       "      <th>STL</th>\n",
       "      <th>BLK</th>\n",
       "      <th>...</th>\n",
       "      <th>FT%</th>\n",
       "      <th>Years</th>\n",
       "      <th>AP</th>\n",
       "      <th>LAT</th>\n",
       "      <th>SR</th>\n",
       "      <th>TQS</th>\n",
       "      <th>SVL</th>\n",
       "      <th>MVL</th>\n",
       "      <th>MBP</th>\n",
       "      <th>VORP</th>\n",
       "    </tr>\n",
       "  </thead>\n",
       "  <tbody>\n",
       "    <tr>\n",
       "      <th>0</th>\n",
       "      <td>abdelal01</td>\n",
       "      <td>38</td>\n",
       "      <td>9.210526</td>\n",
       "      <td>NaN</td>\n",
       "      <td>4.684211</td>\n",
       "      <td>NaN</td>\n",
       "      <td>6.6</td>\n",
       "      <td>0.7</td>\n",
       "      <td>0.684211</td>\n",
       "      <td>1.263158</td>\n",
       "      <td>...</td>\n",
       "      <td>0.775</td>\n",
       "      <td>4</td>\n",
       "      <td>1</td>\n",
       "      <td>NaN</td>\n",
       "      <td>NaN</td>\n",
       "      <td>NaN</td>\n",
       "      <td>NaN</td>\n",
       "      <td>NaN</td>\n",
       "      <td>NaN</td>\n",
       "      <td>-0.460000</td>\n",
       "    </tr>\n",
       "    <tr>\n",
       "      <th>1</th>\n",
       "      <td>abdulma02</td>\n",
       "      <td>32</td>\n",
       "      <td>23.093750</td>\n",
       "      <td>7.687500</td>\n",
       "      <td>6.562500</td>\n",
       "      <td>NaN</td>\n",
       "      <td>3.4</td>\n",
       "      <td>4.1</td>\n",
       "      <td>1.718750</td>\n",
       "      <td>0.187500</td>\n",
       "      <td>...</td>\n",
       "      <td>0.910</td>\n",
       "      <td>2</td>\n",
       "      <td>0</td>\n",
       "      <td>NaN</td>\n",
       "      <td>NaN</td>\n",
       "      <td>NaN</td>\n",
       "      <td>NaN</td>\n",
       "      <td>NaN</td>\n",
       "      <td>NaN</td>\n",
       "      <td>-0.088889</td>\n",
       "    </tr>\n",
       "    <tr>\n",
       "      <th>2</th>\n",
       "      <td>abdulta01</td>\n",
       "      <td>32</td>\n",
       "      <td>17.576923</td>\n",
       "      <td>2.730769</td>\n",
       "      <td>7.538462</td>\n",
       "      <td>NaN</td>\n",
       "      <td>8.8</td>\n",
       "      <td>2.6</td>\n",
       "      <td>1.500000</td>\n",
       "      <td>0.880000</td>\n",
       "      <td>...</td>\n",
       "      <td>0.741</td>\n",
       "      <td>3</td>\n",
       "      <td>1</td>\n",
       "      <td>NaN</td>\n",
       "      <td>NaN</td>\n",
       "      <td>NaN</td>\n",
       "      <td>NaN</td>\n",
       "      <td>NaN</td>\n",
       "      <td>NaN</td>\n",
       "      <td>-0.216667</td>\n",
       "    </tr>\n",
       "    <tr>\n",
       "      <th>3</th>\n",
       "      <td>abdursh01</td>\n",
       "      <td>28</td>\n",
       "      <td>14.214286</td>\n",
       "      <td>0.750000</td>\n",
       "      <td>8.892857</td>\n",
       "      <td>NaN</td>\n",
       "      <td>8.4</td>\n",
       "      <td>1.0</td>\n",
       "      <td>1.857143</td>\n",
       "      <td>1.250000</td>\n",
       "      <td>...</td>\n",
       "      <td>0.683</td>\n",
       "      <td>1</td>\n",
       "      <td>0</td>\n",
       "      <td>NaN</td>\n",
       "      <td>NaN</td>\n",
       "      <td>NaN</td>\n",
       "      <td>NaN</td>\n",
       "      <td>NaN</td>\n",
       "      <td>NaN</td>\n",
       "      <td>1.772727</td>\n",
       "    </tr>\n",
       "    <tr>\n",
       "      <th>4</th>\n",
       "      <td>ackeral01</td>\n",
       "      <td>31</td>\n",
       "      <td>13.129032</td>\n",
       "      <td>4.419355</td>\n",
       "      <td>3.689655</td>\n",
       "      <td>NaN</td>\n",
       "      <td>6.5</td>\n",
       "      <td>3.8</td>\n",
       "      <td>1.827586</td>\n",
       "      <td>0.483871</td>\n",
       "      <td>...</td>\n",
       "      <td>0.858</td>\n",
       "      <td>3</td>\n",
       "      <td>0</td>\n",
       "      <td>11.67</td>\n",
       "      <td>NaN</td>\n",
       "      <td>3.35</td>\n",
       "      <td>28.0</td>\n",
       "      <td>32.0</td>\n",
       "      <td>11.0</td>\n",
       "      <td>-0.150000</td>\n",
       "    </tr>\n",
       "  </tbody>\n",
       "</table>\n",
       "<p>5 rows × 26 columns</p>\n",
       "</div>"
      ],
      "text/plain": [
       "        Name   G        FGA       3PA       FTA  ORB  TRB.1  AST.1       STL  \\\n",
       "0  abdelal01  38   9.210526       NaN  4.684211  NaN    6.6    0.7  0.684211   \n",
       "1  abdulma02  32  23.093750  7.687500  6.562500  NaN    3.4    4.1  1.718750   \n",
       "2  abdulta01  32  17.576923  2.730769  7.538462  NaN    8.8    2.6  1.500000   \n",
       "3  abdursh01  28  14.214286  0.750000  8.892857  NaN    8.4    1.0  1.857143   \n",
       "4  ackeral01  31  13.129032  4.419355  3.689655  NaN    6.5    3.8  1.827586   \n",
       "\n",
       "        BLK    ...       FT%  Years  AP    LAT  SR   TQS   SVL   MVL   MBP  \\\n",
       "0  1.263158    ...     0.775      4   1    NaN NaN   NaN   NaN   NaN   NaN   \n",
       "1  0.187500    ...     0.910      2   0    NaN NaN   NaN   NaN   NaN   NaN   \n",
       "2  0.880000    ...     0.741      3   1    NaN NaN   NaN   NaN   NaN   NaN   \n",
       "3  1.250000    ...     0.683      1   0    NaN NaN   NaN   NaN   NaN   NaN   \n",
       "4  0.483871    ...     0.858      3   0  11.67 NaN  3.35  28.0  32.0  11.0   \n",
       "\n",
       "       VORP  \n",
       "0 -0.460000  \n",
       "1 -0.088889  \n",
       "2 -0.216667  \n",
       "3  1.772727  \n",
       "4 -0.150000  \n",
       "\n",
       "[5 rows x 26 columns]"
      ]
     },
     "execution_count": 248,
     "metadata": {},
     "output_type": "execute_result"
    }
   ],
   "source": [
    "df.head()"
   ]
  },
  {
   "cell_type": "code",
   "execution_count": 249,
   "metadata": {
    "collapsed": false
   },
   "outputs": [],
   "source": [
    "df_cleaned = df.fillna(np.mean(df, axis=0))"
   ]
  },
  {
   "cell_type": "code",
   "execution_count": 251,
   "metadata": {
    "collapsed": false
   },
   "outputs": [
    {
     "data": {
      "text/plain": [
       "(2001, 26)"
      ]
     },
     "execution_count": 251,
     "metadata": {},
     "output_type": "execute_result"
    }
   ],
   "source": [
    "df_cleaned.shape"
   ]
  },
  {
   "cell_type": "code",
   "execution_count": 252,
   "metadata": {
    "collapsed": false
   },
   "outputs": [
    {
     "data": {
      "text/plain": [
       "Index(['Name', 'G', 'FGA', '3PA', 'FTA', 'ORB', 'TRB.1', 'AST.1', 'STL', 'BLK',\n",
       "       'TOV', 'PF', 'MP.1', 'PTS.1', 'FG%', '3P%', 'FT%', 'Years', 'AP', 'LAT',\n",
       "       'SR', 'TQS', 'SVL', 'MVL', 'MBP', 'VORP'],\n",
       "      dtype='object')"
      ]
     },
     "execution_count": 252,
     "metadata": {},
     "output_type": "execute_result"
    }
   ],
   "source": [
    "df_cleaned.columns"
   ]
  },
  {
   "cell_type": "code",
   "execution_count": 253,
   "metadata": {
    "collapsed": false
   },
   "outputs": [],
   "source": [
    "X = df_cleaned.values[:,1:24]\n",
    "Y = df_cleaned.VORP"
   ]
  },
  {
   "cell_type": "code",
   "execution_count": 6,
   "metadata": {
    "collapsed": false
   },
   "outputs": [],
   "source": [
    "from sklearn.preprocessing import StandardScaler"
   ]
  },
  {
   "cell_type": "code",
   "execution_count": 254,
   "metadata": {
    "collapsed": false
   },
   "outputs": [
    {
     "name": "stderr",
     "output_type": "stream",
     "text": [
      "/Users/farahshih/anaconda/lib/python3.5/site-packages/sklearn/utils/validation.py:429: DataConversionWarning: Data with input dtype object was converted to float64 by StandardScaler.\n",
      "  warnings.warn(msg, _DataConversionWarning)\n"
     ]
    }
   ],
   "source": [
    "X_normed = StandardScaler().fit_transform(X)"
   ]
  },
  {
   "cell_type": "code",
   "execution_count": 255,
   "metadata": {
    "collapsed": false
   },
   "outputs": [
    {
     "data": {
      "text/plain": [
       "array([[  1.37122726e+00,  -8.85543582e-01,  -9.34448294e-16, ...,\n",
       "          2.00474761e-14,   4.66236408e-15,  -3.95994687e-15],\n",
       "       [ -4.65746013e-01,   3.01939733e+00,   1.90619248e+00, ...,\n",
       "          2.00474761e-14,   4.66236408e-15,  -3.95994687e-15],\n",
       "       [ -4.65746013e-01,   1.46767680e+00,  -1.79788677e-01, ...,\n",
       "          2.00474761e-14,   4.66236408e-15,  -3.95994687e-15],\n",
       "       ..., \n",
       "       [ -1.59583801e-01,  -1.14566590e+00,  -1.26523706e+00, ...,\n",
       "          2.00474761e-14,   4.66236408e-15,  -3.95994687e-15],\n",
       "       [  4.52740622e-01,  -1.58895854e+00,  -6.23078436e-01, ...,\n",
       "         -2.68904671e+00,   2.78245600e+00,   3.12380257e+00],\n",
       "       [ -2.30271928e+00,  -1.16112032e+00,  -1.05383704e+00, ...,\n",
       "          2.27667261e+00,  -2.46689929e+00,  -2.17067071e+00]])"
      ]
     },
     "execution_count": 255,
     "metadata": {},
     "output_type": "execute_result"
    }
   ],
   "source": [
    "X_normed"
   ]
  },
  {
   "cell_type": "code",
   "execution_count": 9,
   "metadata": {
    "collapsed": true
   },
   "outputs": [],
   "source": [
    "from sklearn import model_selection\n",
    "from sklearn.linear_model import LinearRegression"
   ]
  },
  {
   "cell_type": "code",
   "execution_count": 257,
   "metadata": {
    "collapsed": false
   },
   "outputs": [],
   "source": [
    "ten_fold = model_selection.KFold(n_splits=10)"
   ]
  },
  {
   "cell_type": "code",
   "execution_count": 258,
   "metadata": {
    "collapsed": false
   },
   "outputs": [
    {
     "name": "stdout",
     "output_type": "stream",
     "text": [
      "R Squared score of 10-fold cross validation: [ 0.09599523  0.21807961  0.28544556  0.14901467  0.15435952  0.14433719\n",
      "  0.26827375  0.18854685  0.07016258  0.11078274] \n",
      "MSE score of 10-fold cross validation: [ 0.65181014  0.32233333  0.62773539  0.52392288  0.80447062  0.70857657\n",
      "  0.72079982  0.6161042   0.40223374  0.59593942] \n"
     ]
    }
   ],
   "source": [
    "lr_model = LinearRegression()\n",
    "# lr_model.fit(X_normed, Y)\n",
    "\n",
    "R2 = model_selection.cross_val_score(lr_model, X_normed, Y, cv=ten_fold, scoring='r2')\n",
    "MSE = model_selection.cross_val_score(lr_model, X_normed, Y, cv=ten_fold, scoring='neg_mean_squared_error')\n",
    "\n",
    "print(\"R Squared score of 10-fold cross validation: {0} \".format(R2))\n",
    "print(\"MSE score of 10-fold cross validation: {0} \".format(-MSE))"
   ]
  },
  {
   "cell_type": "markdown",
   "metadata": {},
   "source": [
    "## Drop Physical Attributes"
   ]
  },
  {
   "cell_type": "code",
   "execution_count": 259,
   "metadata": {
    "collapsed": false
   },
   "outputs": [
    {
     "data": {
      "text/plain": [
       "Index(['Name', 'G', 'FGA', '3PA', 'FTA', 'ORB', 'TRB.1', 'AST.1', 'STL', 'BLK',\n",
       "       'TOV', 'PF', 'MP.1', 'PTS.1', 'FG%', '3P%', 'FT%', 'Years', 'AP', 'LAT',\n",
       "       'SR', 'TQS', 'SVL', 'MVL', 'MBP', 'VORP'],\n",
       "      dtype='object')"
      ]
     },
     "execution_count": 259,
     "metadata": {},
     "output_type": "execute_result"
    }
   ],
   "source": [
    "df_cleaned.columns"
   ]
  },
  {
   "cell_type": "code",
   "execution_count": 260,
   "metadata": {
    "collapsed": false
   },
   "outputs": [
    {
     "data": {
      "text/html": [
       "<div>\n",
       "<table border=\"1\" class=\"dataframe\">\n",
       "  <thead>\n",
       "    <tr style=\"text-align: right;\">\n",
       "      <th></th>\n",
       "      <th>Name</th>\n",
       "      <th>G</th>\n",
       "      <th>FGA</th>\n",
       "      <th>3PA</th>\n",
       "      <th>FTA</th>\n",
       "      <th>ORB</th>\n",
       "      <th>TRB.1</th>\n",
       "      <th>AST.1</th>\n",
       "      <th>STL</th>\n",
       "      <th>BLK</th>\n",
       "      <th>...</th>\n",
       "      <th>FT%</th>\n",
       "      <th>Years</th>\n",
       "      <th>AP</th>\n",
       "      <th>LAT</th>\n",
       "      <th>SR</th>\n",
       "      <th>TQS</th>\n",
       "      <th>SVL</th>\n",
       "      <th>MVL</th>\n",
       "      <th>MBP</th>\n",
       "      <th>VORP</th>\n",
       "    </tr>\n",
       "  </thead>\n",
       "  <tbody>\n",
       "    <tr>\n",
       "      <th>0</th>\n",
       "      <td>abdelal01</td>\n",
       "      <td>38</td>\n",
       "      <td>9.210526</td>\n",
       "      <td>3.157985</td>\n",
       "      <td>4.684211</td>\n",
       "      <td>1.875945</td>\n",
       "      <td>6.6</td>\n",
       "      <td>0.7</td>\n",
       "      <td>0.684211</td>\n",
       "      <td>1.263158</td>\n",
       "      <td>...</td>\n",
       "      <td>0.775</td>\n",
       "      <td>4</td>\n",
       "      <td>1</td>\n",
       "      <td>11.33395</td>\n",
       "      <td>3.045263</td>\n",
       "      <td>3.278702</td>\n",
       "      <td>29.759546</td>\n",
       "      <td>34.894886</td>\n",
       "      <td>10.743644</td>\n",
       "      <td>-0.460000</td>\n",
       "    </tr>\n",
       "    <tr>\n",
       "      <th>1</th>\n",
       "      <td>abdulma02</td>\n",
       "      <td>32</td>\n",
       "      <td>23.093750</td>\n",
       "      <td>7.687500</td>\n",
       "      <td>6.562500</td>\n",
       "      <td>1.875945</td>\n",
       "      <td>3.4</td>\n",
       "      <td>4.1</td>\n",
       "      <td>1.718750</td>\n",
       "      <td>0.187500</td>\n",
       "      <td>...</td>\n",
       "      <td>0.910</td>\n",
       "      <td>2</td>\n",
       "      <td>0</td>\n",
       "      <td>11.33395</td>\n",
       "      <td>3.045263</td>\n",
       "      <td>3.278702</td>\n",
       "      <td>29.759546</td>\n",
       "      <td>34.894886</td>\n",
       "      <td>10.743644</td>\n",
       "      <td>-0.088889</td>\n",
       "    </tr>\n",
       "    <tr>\n",
       "      <th>2</th>\n",
       "      <td>abdulta01</td>\n",
       "      <td>32</td>\n",
       "      <td>17.576923</td>\n",
       "      <td>2.730769</td>\n",
       "      <td>7.538462</td>\n",
       "      <td>1.875945</td>\n",
       "      <td>8.8</td>\n",
       "      <td>2.6</td>\n",
       "      <td>1.500000</td>\n",
       "      <td>0.880000</td>\n",
       "      <td>...</td>\n",
       "      <td>0.741</td>\n",
       "      <td>3</td>\n",
       "      <td>1</td>\n",
       "      <td>11.33395</td>\n",
       "      <td>3.045263</td>\n",
       "      <td>3.278702</td>\n",
       "      <td>29.759546</td>\n",
       "      <td>34.894886</td>\n",
       "      <td>10.743644</td>\n",
       "      <td>-0.216667</td>\n",
       "    </tr>\n",
       "  </tbody>\n",
       "</table>\n",
       "<p>3 rows × 26 columns</p>\n",
       "</div>"
      ],
      "text/plain": [
       "        Name   G        FGA       3PA       FTA       ORB  TRB.1  AST.1  \\\n",
       "0  abdelal01  38   9.210526  3.157985  4.684211  1.875945    6.6    0.7   \n",
       "1  abdulma02  32  23.093750  7.687500  6.562500  1.875945    3.4    4.1   \n",
       "2  abdulta01  32  17.576923  2.730769  7.538462  1.875945    8.8    2.6   \n",
       "\n",
       "        STL       BLK    ...       FT%  Years  AP       LAT        SR  \\\n",
       "0  0.684211  1.263158    ...     0.775      4   1  11.33395  3.045263   \n",
       "1  1.718750  0.187500    ...     0.910      2   0  11.33395  3.045263   \n",
       "2  1.500000  0.880000    ...     0.741      3   1  11.33395  3.045263   \n",
       "\n",
       "        TQS        SVL        MVL        MBP      VORP  \n",
       "0  3.278702  29.759546  34.894886  10.743644 -0.460000  \n",
       "1  3.278702  29.759546  34.894886  10.743644 -0.088889  \n",
       "2  3.278702  29.759546  34.894886  10.743644 -0.216667  \n",
       "\n",
       "[3 rows x 26 columns]"
      ]
     },
     "execution_count": 260,
     "metadata": {},
     "output_type": "execute_result"
    }
   ],
   "source": [
    "df_cleaned.head(3)"
   ]
  },
  {
   "cell_type": "code",
   "execution_count": 261,
   "metadata": {
    "collapsed": true
   },
   "outputs": [],
   "source": [
    "df_cleaned[\"Y1\"]=0.0\n",
    "df_cleaned[\"Y2\"]=0.0\n",
    "df_cleaned[\"Y3\"]=0.0\n",
    "df_cleaned[\"Y4\"]=0.0"
   ]
  },
  {
   "cell_type": "code",
   "execution_count": 262,
   "metadata": {
    "collapsed": false
   },
   "outputs": [
    {
     "name": "stderr",
     "output_type": "stream",
     "text": [
      "/Users/farahshih/anaconda/lib/python3.5/site-packages/ipykernel/__main__.py:1: SettingWithCopyWarning: \n",
      "A value is trying to be set on a copy of a slice from a DataFrame\n",
      "\n",
      "See the caveats in the documentation: http://pandas.pydata.org/pandas-docs/stable/indexing.html#indexing-view-versus-copy\n",
      "  if __name__ == '__main__':\n",
      "/Users/farahshih/anaconda/lib/python3.5/site-packages/ipykernel/__main__.py:2: SettingWithCopyWarning: \n",
      "A value is trying to be set on a copy of a slice from a DataFrame\n",
      "\n",
      "See the caveats in the documentation: http://pandas.pydata.org/pandas-docs/stable/indexing.html#indexing-view-versus-copy\n",
      "  from ipykernel import kernelapp as app\n",
      "/Users/farahshih/anaconda/lib/python3.5/site-packages/ipykernel/__main__.py:3: SettingWithCopyWarning: \n",
      "A value is trying to be set on a copy of a slice from a DataFrame\n",
      "\n",
      "See the caveats in the documentation: http://pandas.pydata.org/pandas-docs/stable/indexing.html#indexing-view-versus-copy\n",
      "  app.launch_new_instance()\n",
      "/Users/farahshih/anaconda/lib/python3.5/site-packages/ipykernel/__main__.py:4: SettingWithCopyWarning: \n",
      "A value is trying to be set on a copy of a slice from a DataFrame\n",
      "\n",
      "See the caveats in the documentation: http://pandas.pydata.org/pandas-docs/stable/indexing.html#indexing-view-versus-copy\n"
     ]
    }
   ],
   "source": [
    "df_cleaned.Y1[df_cleaned[\"Years\"]==1.0]=1.0\n",
    "df_cleaned.Y2[df_cleaned[\"Years\"]==2.0]=2.0\n",
    "df_cleaned.Y3[df_cleaned[\"Years\"]==3.0]=3.0\n",
    "df_cleaned.Y4[df_cleaned[\"Years\"]==4.0]=4.0"
   ]
  },
  {
   "cell_type": "code",
   "execution_count": 47,
   "metadata": {
    "collapsed": false
   },
   "outputs": [
    {
     "data": {
      "text/plain": [
       "Index(['Name', 'G', 'FGA', '3PA', 'FTA', 'ORB', 'TRB.1', 'AST.1', 'STL', 'BLK',\n",
       "       'TOV', 'PF', 'MP.1', 'PTS.1', 'FG%', '3P%', 'FT%', 'Years', 'AP', 'LAT',\n",
       "       'SR', 'TQS', 'SVL', 'MVL', 'MBP', 'VORP', 'VORP_Max', 'Y1', 'Y2', 'Y3',\n",
       "       'Y4'],\n",
       "      dtype='object')"
      ]
     },
     "execution_count": 47,
     "metadata": {},
     "output_type": "execute_result"
    }
   ],
   "source": [
    "df_cleaned.columns"
   ]
  },
  {
   "cell_type": "code",
   "execution_count": 263,
   "metadata": {
    "collapsed": false
   },
   "outputs": [
    {
     "name": "stdout",
     "output_type": "stream",
     "text": [
      "R Squared score of 10-fold cross validation: 0.16702067957260538 \n",
      "MSE score of 10-fold cross validation: [ 0.64715776  0.32012906  0.63164038  0.53561961  0.81136337  0.70674849\n",
      "  0.72299619  0.61105099  0.39918818  0.60235655] \n"
     ]
    }
   ],
   "source": [
    "X_1_t = df_cleaned.ix[:,['G', 'FGA', '3PA', 'FTA', 'ORB', 'TRB.1', 'AST.1', 'STL', 'BLK', 'TOV', 'PF', 'MP.1', \n",
    "                       'PTS.1', 'FG%', '3P%', 'FT%', 'AP', 'LAT','SR', 'TQS', 'SVL', 'MVL', 'MBP', 'Y1', 'Y2', 'Y3','Y4']]\n",
    "X_1 = X_1_t.values\n",
    "Y_1 = df_cleaned.VORP\n",
    "X_1_normed = StandardScaler().fit_transform(X_1)\n",
    "\n",
    "lr_model_1 = LinearRegression()\n",
    "# lr_model.fit(X_normed, Y)\n",
    "\n",
    "R2_1 = model_selection.cross_val_score(lr_model_1, X_1_normed, Y_1, cv=ten_fold, scoring='r2').mean()\n",
    "MSE_1 = model_selection.cross_val_score(lr_model_1, X_1_normed, Y_1, cv=ten_fold, scoring='neg_mean_squared_error')\n",
    "\n",
    "print(\"R Squared score of 10-fold cross validation: {0} \".format(R2_1))\n",
    "print(\"MSE score of 10-fold cross validation: {0} \".format(-MSE_1))"
   ]
  },
  {
   "cell_type": "code",
   "execution_count": 14,
   "metadata": {
    "collapsed": false
   },
   "outputs": [
    {
     "data": {
      "text/plain": [
       "array([[<matplotlib.axes._subplots.AxesSubplot object at 0x118d27358>,\n",
       "        <matplotlib.axes._subplots.AxesSubplot object at 0x11c1c3ef0>,\n",
       "        <matplotlib.axes._subplots.AxesSubplot object at 0x11c20aba8>,\n",
       "        <matplotlib.axes._subplots.AxesSubplot object at 0x11c0a0cf8>,\n",
       "        <matplotlib.axes._subplots.AxesSubplot object at 0x11c2579e8>,\n",
       "        <matplotlib.axes._subplots.AxesSubplot object at 0x11c2a59b0>],\n",
       "       [<matplotlib.axes._subplots.AxesSubplot object at 0x11c50abe0>,\n",
       "        <matplotlib.axes._subplots.AxesSubplot object at 0x11c545e10>,\n",
       "        <matplotlib.axes._subplots.AxesSubplot object at 0x11c590f60>,\n",
       "        <matplotlib.axes._subplots.AxesSubplot object at 0x11c5d2b70>,\n",
       "        <matplotlib.axes._subplots.AxesSubplot object at 0x11c620668>,\n",
       "        <matplotlib.axes._subplots.AxesSubplot object at 0x11c652668>],\n",
       "       [<matplotlib.axes._subplots.AxesSubplot object at 0x11c6a1be0>,\n",
       "        <matplotlib.axes._subplots.AxesSubplot object at 0x11c6c40f0>,\n",
       "        <matplotlib.axes._subplots.AxesSubplot object at 0x11c826a90>,\n",
       "        <matplotlib.axes._subplots.AxesSubplot object at 0x11c871be0>,\n",
       "        <matplotlib.axes._subplots.AxesSubplot object at 0x11c8b07f0>,\n",
       "        <matplotlib.axes._subplots.AxesSubplot object at 0x11c900208>],\n",
       "       [<matplotlib.axes._subplots.AxesSubplot object at 0x11c937a90>,\n",
       "        <matplotlib.axes._subplots.AxesSubplot object at 0x11c9846a0>,\n",
       "        <matplotlib.axes._subplots.AxesSubplot object at 0x11c94fda0>,\n",
       "        <matplotlib.axes._subplots.AxesSubplot object at 0x11cb11208>,\n",
       "        <matplotlib.axes._subplots.AxesSubplot object at 0x11cb5b160>,\n",
       "        <matplotlib.axes._subplots.AxesSubplot object at 0x11cb9b208>],\n",
       "       [<matplotlib.axes._subplots.AxesSubplot object at 0x11cbe4b00>,\n",
       "        <matplotlib.axes._subplots.AxesSubplot object at 0x11cd20390>,\n",
       "        <matplotlib.axes._subplots.AxesSubplot object at 0x11cd6b1d0>,\n",
       "        <matplotlib.axes._subplots.AxesSubplot object at 0x11cdab1d0>,\n",
       "        <matplotlib.axes._subplots.AxesSubplot object at 0x11cdf3ac8>,\n",
       "        <matplotlib.axes._subplots.AxesSubplot object at 0x11ce0afd0>]], dtype=object)"
      ]
     },
     "execution_count": 14,
     "metadata": {},
     "output_type": "execute_result"
    },
    {
     "data": {
      "image/png": "[encoded data removed]",
      "text/plain": [
       "<matplotlib.figure.Figure at 0x118c65b38>"
      ]
     },
     "metadata": {},
     "output_type": "display_data"
    }
   ],
   "source": [
    "df.hist(figsize=(12,8), layout=(5,6))"
   ]
  },
  {
   "cell_type": "markdown",
   "metadata": {
    "collapsed": true
   },
   "source": [
    "## Cart"
   ]
  },
  {
   "cell_type": "code",
   "execution_count": 264,
   "metadata": {
    "collapsed": false
   },
   "outputs": [
    {
     "name": "stdout",
     "output_type": "stream",
     "text": [
      "DecisionTreeRegressor(criterion='mse', max_depth=2, max_features=None,\n",
      "           max_leaf_nodes=None, min_impurity_split=1e-07,\n",
      "           min_samples_leaf=1, min_samples_split=10,\n",
      "           min_weight_fraction_leaf=0.0, presort=False, random_state=None,\n",
      "           splitter='best')\n"
     ]
    }
   ],
   "source": [
    "cart1 = DecisionTreeRegressor(min_samples_split=10, max_depth=2)\n",
    "cart1.fit(X_1_normed, Y_1)\n",
    "print(cart1)"
   ]
  },
  {
   "cell_type": "code",
   "execution_count": 265,
   "metadata": {
    "collapsed": false
   },
   "outputs": [
    {
     "data": {
      "text/plain": [
       "array([-0.70667746, -0.42450278, -0.7765659 , -0.64105684, -0.91990804,\n",
       "       -0.83097586, -0.91316576, -0.69308335, -0.4604259 , -0.69060672])"
      ]
     },
     "execution_count": 265,
     "metadata": {},
     "output_type": "execute_result"
    }
   ],
   "source": [
    "model_selection.cross_val_score(cart1, X_1_normed, Y_1, scoring = 'neg_mean_squared_error', cv = 10)"
   ]
  },
  {
   "cell_type": "code",
   "execution_count": 266,
   "metadata": {
    "collapsed": false
   },
   "outputs": [
    {
     "data": {
      "text/plain": [
       "array([ 0.01989898, -0.02976439,  0.11603102, -0.04124097,  0.03301444,\n",
       "       -0.00346973,  0.07299178,  0.08715981, -0.06435932, -0.03047288])"
      ]
     },
     "execution_count": 266,
     "metadata": {},
     "output_type": "execute_result"
    }
   ],
   "source": [
    "model_selection.cross_val_score(cart1, X_1_normed, Y_1, scoring = 'r2', cv = 10)"
   ]
  },
  {
   "cell_type": "markdown",
   "metadata": {},
   "source": [
    "## Binary Classification"
   ]
  },
  {
   "cell_type": "code",
   "execution_count": 267,
   "metadata": {
    "collapsed": false
   },
   "outputs": [
    {
     "data": {
      "text/plain": [
       "Index(['Name', 'G', 'FGA', '3PA', 'FTA', 'ORB', 'TRB.1', 'AST.1', 'STL', 'BLK',\n",
       "       'TOV', 'PF', 'MP.1', 'PTS.1', 'FG%', '3P%', 'FT%', 'Years', 'AP', 'LAT',\n",
       "       'SR', 'TQS', 'SVL', 'MVL', 'MBP', 'VORP', 'Y1', 'Y2', 'Y3', 'Y4'],\n",
       "      dtype='object')"
      ]
     },
     "execution_count": 267,
     "metadata": {},
     "output_type": "execute_result"
    }
   ],
   "source": [
    "df_cleaned.columns"
   ]
  },
  {
   "cell_type": "code",
   "execution_count": 268,
   "metadata": {
    "collapsed": false
   },
   "outputs": [
    {
     "name": "stderr",
     "output_type": "stream",
     "text": [
      "/Users/farahshih/anaconda/lib/python3.5/site-packages/ipykernel/__main__.py:2: SettingWithCopyWarning: \n",
      "A value is trying to be set on a copy of a slice from a DataFrame\n",
      "\n",
      "See the caveats in the documentation: http://pandas.pydata.org/pandas-docs/stable/indexing.html#indexing-view-versus-copy\n",
      "  from ipykernel import kernelapp as app\n"
     ]
    }
   ],
   "source": [
    "df_cleaned[\"Superstar\"]=\"0\"\n",
    "df_cleaned.Superstar[df_cleaned[\"VORP\"]>=1]=\"1\""
   ]
  },
  {
   "cell_type": "code",
   "execution_count": 269,
   "metadata": {
    "collapsed": true
   },
   "outputs": [],
   "source": [
    "Y_2 = df_cleaned.Superstar"
   ]
  },
  {
   "cell_type": "code",
   "execution_count": 273,
   "metadata": {
    "collapsed": true
   },
   "outputs": [],
   "source": [
    "from sklearn.model_selection import train_test_split\n",
    "X_train, X_test, Y_train, Y_test = train_test_split(X_1_normed, Y_2)"
   ]
  },
  {
   "cell_type": "code",
   "execution_count": 274,
   "metadata": {
    "collapsed": false
   },
   "outputs": [
    {
     "data": {
      "text/plain": [
       "LogisticRegression(C=1.0, class_weight='balanced', dual=False,\n",
       "          fit_intercept=True, intercept_scaling=1, max_iter=100,\n",
       "          multi_class='ovr', n_jobs=1, penalty='l2', random_state=None,\n",
       "          solver='liblinear', tol=0.0001, verbose=0, warm_start=False)"
      ]
     },
     "execution_count": 274,
     "metadata": {},
     "output_type": "execute_result"
    }
   ],
   "source": [
    "logreg = linear_model.LogisticRegression(class_weight='balanced')\n",
    "logreg.fit(X_train, Y_train)"
   ]
  },
  {
   "cell_type": "code",
   "execution_count": 275,
   "metadata": {
    "collapsed": false
   },
   "outputs": [],
   "source": [
    "Y_test_pred = logreg.predict(X_test)\n",
    "Y_train_pred = logreg.predict(X_train)"
   ]
  },
  {
   "cell_type": "code",
   "execution_count": 184,
   "metadata": {
    "collapsed": true
   },
   "outputs": [],
   "source": [
    "from sklearn import metrics"
   ]
  },
  {
   "cell_type": "code",
   "execution_count": 276,
   "metadata": {
    "collapsed": false
   },
   "outputs": [
    {
     "name": "stdout",
     "output_type": "stream",
     "text": [
      "[[971 329]\n",
      " [ 56 144]]\n",
      "[[325 126]\n",
      " [ 18  32]]\n"
     ]
    }
   ],
   "source": [
    "print(metrics.confusion_matrix(Y_train, Y_train_pred))\n",
    "print(metrics.confusion_matrix(Y_test, Y_test_pred))"
   ]
  },
  {
   "cell_type": "code",
   "execution_count": 277,
   "metadata": {
    "collapsed": false
   },
   "outputs": [],
   "source": [
    "from sklearn.ensemble import RandomForestClassifier\n",
    "rf = RandomForestClassifier(n_estimators = 10, max_features = 5, class_weight=\"balanced\")"
   ]
  },
  {
   "cell_type": "code",
   "execution_count": 278,
   "metadata": {
    "collapsed": false
   },
   "outputs": [
    {
     "name": "stdout",
     "output_type": "stream",
     "text": [
      "[[1300    0]\n",
      " [  24  176]]\n",
      "[[444   7]\n",
      " [ 43   7]]\n"
     ]
    }
   ],
   "source": [
    "rf.fit(X_train, Y_train)\n",
    "Y_train_pred = rf.predict(X_train)\n",
    "Y_test_pred = rf.predict(X_test)\n",
    "print(metrics.confusion_matrix(Y_train, Y_train_pred))\n",
    "print(metrics.confusion_matrix(Y_test, Y_test_pred))"
   ]
  },
  {
   "cell_type": "code",
   "execution_count": 279,
   "metadata": {
    "collapsed": false
   },
   "outputs": [
    {
     "name": "stdout",
     "output_type": "stream",
     "text": [
      "[[1300    0]\n",
      " [   2  198]]\n",
      "[[438  13]\n",
      " [ 40  10]]\n"
     ]
    }
   ],
   "source": [
    "from sklearn.ensemble import GradientBoostingClassifier\n",
    "gbc = GradientBoostingClassifier(n_estimators=100, max_depth=5)\n",
    "gbc.fit(X_train, Y_train)\n",
    "Y_train_pred = gbc.predict(X_train)\n",
    "Y_test_pred = gbc.predict(X_test)\n",
    "print(metrics.confusion_matrix(Y_train, Y_train_pred))\n",
    "print(metrics.confusion_matrix(Y_test, Y_test_pred))"
   ]
  },
  {
   "cell_type": "markdown",
   "metadata": {},
   "source": [
    "## Classification"
   ]
  },
  {
   "cell_type": "code",
   "execution_count": 280,
   "metadata": {
    "collapsed": false
   },
   "outputs": [
    {
     "name": "stderr",
     "output_type": "stream",
     "text": [
      "/Users/farahshih/anaconda/lib/python3.5/site-packages/ipykernel/__main__.py:2: SettingWithCopyWarning: \n",
      "A value is trying to be set on a copy of a slice from a DataFrame\n",
      "\n",
      "See the caveats in the documentation: http://pandas.pydata.org/pandas-docs/stable/indexing.html#indexing-view-versus-copy\n",
      "  from ipykernel import kernelapp as app\n",
      "/Users/farahshih/anaconda/lib/python3.5/site-packages/ipykernel/__main__.py:3: SettingWithCopyWarning: \n",
      "A value is trying to be set on a copy of a slice from a DataFrame\n",
      "\n",
      "See the caveats in the documentation: http://pandas.pydata.org/pandas-docs/stable/indexing.html#indexing-view-versus-copy\n",
      "  app.launch_new_instance()\n"
     ]
    }
   ],
   "source": [
    "df_cleaned[\"Superstar2\"]=\"0\"\n",
    "df_cleaned.Superstar2[(df_cleaned[\"VORP\"]>=0) & (df_cleaned[\"VORP\"]<2)]=\"1\"\n",
    "df_cleaned.Superstar2[df_cleaned[\"VORP\"]>=2]=\"2\""
   ]
  },
  {
   "cell_type": "code",
   "execution_count": 281,
   "metadata": {
    "collapsed": true
   },
   "outputs": [],
   "source": [
    "Y_3 = df_cleaned.Superstar2"
   ]
  },
  {
   "cell_type": "code",
   "execution_count": 282,
   "metadata": {
    "collapsed": true
   },
   "outputs": [],
   "source": [
    "rf = RandomForestClassifier(n_estimators = 50, max_features = 5, class_weight=\"balanced\")"
   ]
  },
  {
   "cell_type": "code",
   "execution_count": 283,
   "metadata": {
    "collapsed": true
   },
   "outputs": [],
   "source": [
    "X_train, X_test, Y_train, Y_test = train_test_split(X_1_normed, Y_3)"
   ]
  },
  {
   "cell_type": "code",
   "execution_count": 284,
   "metadata": {
    "collapsed": false
   },
   "outputs": [
    {
     "name": "stdout",
     "output_type": "stream",
     "text": [
      "[[757   0   0]\n",
      " [  0 676   0]\n",
      " [  0   0  67]]\n",
      "[[190  78   0]\n",
      " [117  90   0]\n",
      " [  8  18   0]]\n"
     ]
    }
   ],
   "source": [
    "rf.fit(X_train, Y_train)\n",
    "Y_train_pred = rf.predict(X_train)\n",
    "Y_test_pred = rf.predict(X_test)\n",
    "print(metrics.confusion_matrix(Y_train, Y_train_pred))\n",
    "print(metrics.confusion_matrix(Y_test, Y_test_pred))"
   ]
  },
  {
   "cell_type": "code",
   "execution_count": null,
   "metadata": {
    "collapsed": true
   },
   "outputs": [],
   "source": []
  }
 ],
 "metadata": {
  "kernelspec": {
   "display_name": "Python 3",
   "language": "python",
   "name": "python3"
  },
  "language_info": {
   "codemirror_mode": {
    "name": "ipython",
    "version": 3
   },
   "file_extension": ".py",
   "mimetype": "text/x-python",
   "name": "python",
   "nbconvert_exporter": "python",
   "pygments_lexer": "ipython3",
   "version": "3.5.2"
  }
 },
 "nbformat": 4,
 "nbformat_minor": 2
}
