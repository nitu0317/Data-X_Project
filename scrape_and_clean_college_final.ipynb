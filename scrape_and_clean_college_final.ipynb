{
 "cells": [
  {
   "cell_type": "markdown",
   "metadata": {
    "collapsed": true
   },
   "source": [
    "### prepare NBA players list and label \n",
    "### scrape NBA players' college data from basketball reference"
   ]
  },
  {
   "cell_type": "code",
   "execution_count": 2,
   "metadata": {
    "collapsed": true
   },
   "outputs": [],
   "source": [
    "import numpy as np\n",
    "import pandas as pd\n",
    "from collections import defaultdict\n",
    "from matplotlib import pyplot as plt\n",
    "%matplotlib inline"
   ]
  },
  {
   "cell_type": "code",
   "execution_count": 3,
   "metadata": {
    "collapsed": false
   },
   "outputs": [],
   "source": [
    "from urllib.request import urlopen\n",
    "from bs4 import BeautifulSoup\n",
    "import requests"
   ]
  },
  {
   "cell_type": "markdown",
   "metadata": {},
   "source": [
    "### Extract NBA player's list and VORP (label) data"
   ]
  },
  {
   "cell_type": "code",
   "execution_count": 93,
   "metadata": {
    "collapsed": false
   },
   "outputs": [],
   "source": [
    "player_info = defaultdict(list)\n",
    "VORP = np.array([])\n",
    "tables = []\n",
    "for i in range(28):\n",
    "    year = str(2017 - i)\n",
    "    file = 'Dataset/NBA/' + year + '.csv'\n",
    "    df = pd.read_csv(file)\n",
    "    tables.append(df)\n",
    "    for idx in range(len(df['Player'].values)):\n",
    "        player_info[df['Player'].values[idx]].append((int(year), float(df.iloc[idx, -1])))\n",
    "    VORP = np.append(VORP, df['VORP▼'].values)"
   ]
  },
  {
   "cell_type": "code",
   "execution_count": 94,
   "metadata": {
    "collapsed": false
   },
   "outputs": [],
   "source": [
    "## Merge the same player with two different names\n",
    "player_info['Patty Mills\\\\millspa02'] += player_info['Patrick Mills\\\\millspa02']"
   ]
  },
  {
   "cell_type": "code",
   "execution_count": 95,
   "metadata": {
    "collapsed": true
   },
   "outputs": [],
   "source": [
    "del player_info['Patrick Mills\\\\millspa02']"
   ]
  },
  {
   "cell_type": "code",
   "execution_count": 96,
   "metadata": {
    "collapsed": false
   },
   "outputs": [],
   "source": [
    "player_VORP_max = defaultdict(float)\n",
    "for player in player_info:\n",
    "    info = player_info[player]\n",
    "    m = -2.0\n",
    "    for t in info:\n",
    "        if t[1] > m:\n",
    "            m = t[1]\n",
    "    player_VORP_max[player] = m"
   ]
  },
  {
   "cell_type": "code",
   "execution_count": 24,
   "metadata": {
    "collapsed": false
   },
   "outputs": [
    {
     "data": {
      "text/plain": [
       "['Randell Jackson\\\\jacksra02',\n",
       " 'Amir Johnson\\\\johnsam01',\n",
       " 'Frankie King\\\\kingfr01',\n",
       " 'Josh Richardson\\\\richajo01',\n",
       " 'Cedric Hunter\\\\huntece01',\n",
       " 'Elmore Spencer\\\\spencel01']"
      ]
     },
     "execution_count": 24,
     "metadata": {},
     "output_type": "execute_result"
    }
   ],
   "source": [
    "player_list = list(player_info.keys())\n",
    "player_list[0:6]"
   ]
  },
  {
   "cell_type": "code",
   "execution_count": 28,
   "metadata": {
    "collapsed": false
   },
   "outputs": [
    {
     "data": {
      "text/plain": [
       "2291"
      ]
     },
     "execution_count": 28,
     "metadata": {},
     "output_type": "execute_result"
    }
   ],
   "source": [
    "## There are 2291 NBA players from 1990 to 2017\n",
    "len(player_list) "
   ]
  },
  {
   "cell_type": "code",
   "execution_count": 139,
   "metadata": {
    "collapsed": false
   },
   "outputs": [
    {
     "data": {
      "text/plain": [
       "<matplotlib.text.Text at 0x11bba5358>"
      ]
     },
     "execution_count": 139,
     "metadata": {},
     "output_type": "execute_result"
    },
    {
     "data": {
      "image/png": "[encoded data removed]",
      "text/plain": [
       "<matplotlib.figure.Figure at 0x11820cc50>"
      ]
     },
     "metadata": {},
     "output_type": "display_data"
    }
   ],
   "source": [
    "## Plot the distribution of VORP_max (label)\n",
    "plt.hist(list(player_VORP_max.values()), np.linspace(-2, 10, 60))\n",
    "plt.xlabel('Value over Replacement Player')\n",
    "plt.ylabel('Number of Samples')"
   ]
  },
  {
   "cell_type": "markdown",
   "metadata": {},
   "source": [
    "### Scrape the college statistics of all NBA players"
   ]
  },
  {
   "cell_type": "code",
   "execution_count": 25,
   "metadata": {
    "collapsed": false
   },
   "outputs": [],
   "source": [
    "player_id_list=[]\n",
    "for i in player_list:\n",
    "    name = i.split('\\\\')[1]\n",
    "    init = name[0]\n",
    "    ID = init + \"/\" + name \n",
    "    player_id_list.append(ID)"
   ]
  },
  {
   "cell_type": "code",
   "execution_count": 26,
   "metadata": {
    "collapsed": false
   },
   "outputs": [
    {
     "data": {
      "text/plain": [
       "['j/jacksra02',\n",
       " 'j/johnsam01',\n",
       " 'k/kingfr01',\n",
       " 'r/richajo01',\n",
       " 'h/huntece01',\n",
       " 's/spencel01']"
      ]
     },
     "execution_count": 26,
     "metadata": {},
     "output_type": "execute_result"
    }
   ],
   "source": [
    "player_id_list[0:6]"
   ]
  },
  {
   "cell_type": "code",
   "execution_count": 13,
   "metadata": {
    "collapsed": true
   },
   "outputs": [],
   "source": [
    "def college_data_scraper(url, name):\n",
    "    ## scrape the college table\n",
    "    req = requests.get(url)\n",
    "    index = req.text.find('div_all_college_stats')\n",
    "    text = req.text[index:]\n",
    "    soup = BeautifulSoup(text, \"html.parser\")\n",
    "    table = soup.find('table', id = 'all_college_stats')\n",
    "    \n",
    "    ## extract column headers\n",
    "    column_headers = [th.getText() for th in soup.findAll('tr', limit=2)[1].findAll('th')]\n",
    "    \n",
    "    ## extract contents from the table\n",
    "    data_rows = soup.findAll('tr')[2:]  # skip the first two columns\n",
    "    player_data = [[td.getText() for td in data_rows[i].findAll('td')] \n",
    "               for i in range(len(data_rows))]\n",
    "    \n",
    "    ## extract the first column (season)\n",
    "    season_data = [[th.getText() for th in data_rows[i].findAll('th')] \n",
    "               for i in range(len(data_rows))]\n",
    "    season_data = np.reshape(season_data, -1)\n",
    "    \n",
    "    ## combine the columns and data as a data frame\n",
    "    df = pd.DataFrame(player_data, columns=column_headers[1:])\n",
    "    df[\"Season\"] = season_data\n",
    "    df[\"Name\"] = name\n",
    "    return(df)"
   ]
  },
  {
   "cell_type": "code",
   "execution_count": 14,
   "metadata": {
    "collapsed": true
   },
   "outputs": [],
   "source": [
    "base = 'http://www.basketball-reference.com/players/'\n",
    "ext = '.html'\n",
    "#player_list = [\"b/bennean01\",\"a/anderal01\"]\n",
    "college_df = pd.DataFrame()\n",
    "for i in player_id_list:\n",
    "    url = base + i + ext\n",
    "    try:\n",
    "        tmp = college_data_scraper(url, i)\n",
    "        college_df = pd.concat([college_df, tmp])\n",
    "        print(i)\n",
    "    except:\n",
    "        continue"
   ]
  },
  {
   "cell_type": "code",
   "execution_count": 23,
   "metadata": {
    "collapsed": false
   },
   "outputs": [
    {
     "data": {
      "text/plain": [
       "(8636, 27)"
      ]
     },
     "execution_count": 23,
     "metadata": {},
     "output_type": "execute_result"
    }
   ],
   "source": [
    "## Initial data frame (college data for each player each year)\n",
    "college_df.shape"
   ]
  },
  {
   "cell_type": "code",
   "execution_count": 19,
   "metadata": {
    "collapsed": false
   },
   "outputs": [
    {
     "data": {
      "text/plain": [
       "2001"
      ]
     },
     "execution_count": 19,
     "metadata": {},
     "output_type": "execute_result"
    }
   ],
   "source": [
    "## Among all 2291 players, we found 2001 players with college data\n",
    "all_name =college_df.Name\n",
    "len(all_name.unique())"
   ]
  },
  {
   "cell_type": "code",
   "execution_count": 25,
   "metadata": {
    "collapsed": true
   },
   "outputs": [],
   "source": [
    "## write the table to csv\n",
    "college_df.to_csv(\"college_raw_data.csv\",index=False)"
   ]
  },
  {
   "cell_type": "markdown",
   "metadata": {},
   "source": [
    "### Clean college raw data"
   ]
  },
  {
   "cell_type": "markdown",
   "metadata": {},
   "source": [
    "1. Remove career rows\n",
    "2. Delete row if column \"G\" < threshold (threshold = the max value of that person * 1/4)\n",
    "3. Calculate FTA, FGA, 3PA, STL, BLK, TOV per game\n",
    "4. Calcuate number of actual years played by length\n",
    "5. Average all per game columns\n",
    "\n",
    "http://www.basketball-reference.com/about/per.html"
   ]
  },
  {
   "cell_type": "code",
   "execution_count": 40,
   "metadata": {
    "collapsed": false
   },
   "outputs": [],
   "source": [
    "college_raw = pd.read_csv(\"Dataset/college_raw_data.csv\")"
   ]
  },
  {
   "cell_type": "code",
   "execution_count": 41,
   "metadata": {
    "collapsed": false
   },
   "outputs": [
    {
     "data": {
      "text/html": [
       "<div>\n",
       "<table border=\"1\" class=\"dataframe\">\n",
       "  <thead>\n",
       "    <tr style=\"text-align: right;\">\n",
       "      <th></th>\n",
       "      <th>Age</th>\n",
       "      <th>College</th>\n",
       "      <th>G</th>\n",
       "      <th>MP</th>\n",
       "      <th>FG</th>\n",
       "      <th>FGA</th>\n",
       "      <th>3P</th>\n",
       "      <th>3PA</th>\n",
       "      <th>FT</th>\n",
       "      <th>FTA</th>\n",
       "      <th>...</th>\n",
       "      <th>PTS</th>\n",
       "      <th>FG%</th>\n",
       "      <th>3P%</th>\n",
       "      <th>FT%</th>\n",
       "      <th>MP.1</th>\n",
       "      <th>PTS.1</th>\n",
       "      <th>TRB.1</th>\n",
       "      <th>AST.1</th>\n",
       "      <th>Season</th>\n",
       "      <th>Name</th>\n",
       "    </tr>\n",
       "  </thead>\n",
       "  <tbody>\n",
       "    <tr>\n",
       "      <th>0</th>\n",
       "      <td>19.0</td>\n",
       "      <td>TEXAS</td>\n",
       "      <td>34</td>\n",
       "      <td>1003.0</td>\n",
       "      <td>159.0</td>\n",
       "      <td>368.0</td>\n",
       "      <td>42.0</td>\n",
       "      <td>112.0</td>\n",
       "      <td>36.0</td>\n",
       "      <td>66.0</td>\n",
       "      <td>...</td>\n",
       "      <td>396</td>\n",
       "      <td>0.432</td>\n",
       "      <td>0.375</td>\n",
       "      <td>0.545</td>\n",
       "      <td>29.5</td>\n",
       "      <td>11.6</td>\n",
       "      <td>2.9</td>\n",
       "      <td>2.1</td>\n",
       "      <td>2009-10</td>\n",
       "      <td>b/bradlav01</td>\n",
       "    </tr>\n",
       "    <tr>\n",
       "      <th>1</th>\n",
       "      <td>NaN</td>\n",
       "      <td>NaN</td>\n",
       "      <td>34</td>\n",
       "      <td>1003.0</td>\n",
       "      <td>159.0</td>\n",
       "      <td>368.0</td>\n",
       "      <td>42.0</td>\n",
       "      <td>112.0</td>\n",
       "      <td>36.0</td>\n",
       "      <td>66.0</td>\n",
       "      <td>...</td>\n",
       "      <td>396</td>\n",
       "      <td>0.432</td>\n",
       "      <td>0.375</td>\n",
       "      <td>0.545</td>\n",
       "      <td>29.5</td>\n",
       "      <td>11.6</td>\n",
       "      <td>2.9</td>\n",
       "      <td>2.1</td>\n",
       "      <td>Career</td>\n",
       "      <td>b/bradlav01</td>\n",
       "    </tr>\n",
       "    <tr>\n",
       "      <th>2</th>\n",
       "      <td>19.0</td>\n",
       "      <td>MICHIGAN</td>\n",
       "      <td>31</td>\n",
       "      <td>403.0</td>\n",
       "      <td>34.0</td>\n",
       "      <td>56.0</td>\n",
       "      <td>0.0</td>\n",
       "      <td>1.0</td>\n",
       "      <td>16.0</td>\n",
       "      <td>35.0</td>\n",
       "      <td>...</td>\n",
       "      <td>84</td>\n",
       "      <td>0.607</td>\n",
       "      <td>0.000</td>\n",
       "      <td>0.457</td>\n",
       "      <td>13.0</td>\n",
       "      <td>2.7</td>\n",
       "      <td>3.3</td>\n",
       "      <td>0.5</td>\n",
       "      <td>1989-90</td>\n",
       "      <td>r/rileyer01</td>\n",
       "    </tr>\n",
       "  </tbody>\n",
       "</table>\n",
       "<p>3 rows × 27 columns</p>\n",
       "</div>"
      ],
      "text/plain": [
       "    Age   College   G      MP     FG    FGA    3P    3PA    FT   FTA  \\\n",
       "0  19.0     TEXAS  34  1003.0  159.0  368.0  42.0  112.0  36.0  66.0   \n",
       "1   NaN       NaN  34  1003.0  159.0  368.0  42.0  112.0  36.0  66.0   \n",
       "2  19.0  MICHIGAN  31   403.0   34.0   56.0   0.0    1.0  16.0  35.0   \n",
       "\n",
       "      ...       PTS    FG%    3P%    FT%  MP.1  PTS.1  TRB.1  AST.1   Season  \\\n",
       "0     ...       396  0.432  0.375  0.545  29.5   11.6    2.9    2.1  2009-10   \n",
       "1     ...       396  0.432  0.375  0.545  29.5   11.6    2.9    2.1   Career   \n",
       "2     ...        84  0.607  0.000  0.457  13.0    2.7    3.3    0.5  1989-90   \n",
       "\n",
       "          Name  \n",
       "0  b/bradlav01  \n",
       "1  b/bradlav01  \n",
       "2  r/rileyer01  \n",
       "\n",
       "[3 rows x 27 columns]"
      ]
     },
     "execution_count": 41,
     "metadata": {},
     "output_type": "execute_result"
    }
   ],
   "source": [
    "college_raw.head(3)"
   ]
  },
  {
   "cell_type": "code",
   "execution_count": 42,
   "metadata": {
    "collapsed": false
   },
   "outputs": [
    {
     "data": {
      "text/plain": [
       "Index(['Age', 'College', 'G', 'MP', 'FG', 'FGA', '3P', '3PA', 'FT', 'FTA',\n",
       "       'ORB', 'TRB', 'AST', 'STL', 'BLK', 'TOV', 'PF', 'PTS', 'FG%', '3P%',\n",
       "       'FT%', 'MP.1', 'PTS.1', 'TRB.1', 'AST.1', 'Season', 'Name'],\n",
       "      dtype='object')"
      ]
     },
     "execution_count": 42,
     "metadata": {},
     "output_type": "execute_result"
    }
   ],
   "source": [
    "college_raw.columns"
   ]
  },
  {
   "cell_type": "markdown",
   "metadata": {},
   "source": [
    "#### 1. Remove career rows"
   ]
  },
  {
   "cell_type": "code",
   "execution_count": 43,
   "metadata": {
    "collapsed": true
   },
   "outputs": [],
   "source": [
    "college_clean = college_raw[college_raw.Season != \"Career\"]"
   ]
  },
  {
   "cell_type": "code",
   "execution_count": 44,
   "metadata": {
    "collapsed": false
   },
   "outputs": [
    {
     "data": {
      "text/plain": [
       "(6634, 27)"
      ]
     },
     "execution_count": 44,
     "metadata": {},
     "output_type": "execute_result"
    }
   ],
   "source": [
    "## the final raw data has 6634 records\n",
    "college_clean.shape"
   ]
  },
  {
   "cell_type": "code",
   "execution_count": 45,
   "metadata": {
    "collapsed": false
   },
   "outputs": [
    {
     "data": {
      "text/plain": [
       "2001"
      ]
     },
     "execution_count": 45,
     "metadata": {},
     "output_type": "execute_result"
    }
   ],
   "source": [
    "len(college_clean.Name.unique())"
   ]
  },
  {
   "cell_type": "markdown",
   "metadata": {},
   "source": [
    "#### 2. Delete row if column \"G\" < threshold"
   ]
  },
  {
   "cell_type": "code",
   "execution_count": 46,
   "metadata": {
    "collapsed": false
   },
   "outputs": [
    {
     "data": {
      "text/plain": [
       "<matplotlib.text.Text at 0x1124b3710>"
      ]
     },
     "execution_count": 46,
     "metadata": {},
     "output_type": "execute_result"
    },
    {
     "data": {
      "image/png": "[encoded data removed]",
      "text/plain": [
       "<matplotlib.figure.Figure at 0x1124cb208>"
      ]
     },
     "metadata": {},
     "output_type": "display_data"
    }
   ],
   "source": [
    "plt.hist(college_clean.G)\n",
    "plt.xlabel('Number of Games')\n",
    "plt.ylabel('Number of players')"
   ]
  },
  {
   "cell_type": "code",
   "execution_count": 47,
   "metadata": {
    "collapsed": false
   },
   "outputs": [
    {
     "data": {
      "text/html": [
       "<div>\n",
       "<table border=\"1\" class=\"dataframe\">\n",
       "  <thead>\n",
       "    <tr style=\"text-align: right;\">\n",
       "      <th></th>\n",
       "      <th>Age</th>\n",
       "      <th>College</th>\n",
       "      <th>G</th>\n",
       "      <th>MP</th>\n",
       "      <th>FG</th>\n",
       "      <th>FGA</th>\n",
       "      <th>3P</th>\n",
       "      <th>3PA</th>\n",
       "      <th>FT</th>\n",
       "      <th>FTA</th>\n",
       "      <th>...</th>\n",
       "      <th>FG%</th>\n",
       "      <th>3P%</th>\n",
       "      <th>FT%</th>\n",
       "      <th>MP.1</th>\n",
       "      <th>PTS.1</th>\n",
       "      <th>TRB.1</th>\n",
       "      <th>AST.1</th>\n",
       "      <th>Season</th>\n",
       "      <th>Name</th>\n",
       "      <th>Threshold</th>\n",
       "    </tr>\n",
       "  </thead>\n",
       "  <tbody>\n",
       "    <tr>\n",
       "      <th>0</th>\n",
       "      <td>19.0</td>\n",
       "      <td>TEXAS</td>\n",
       "      <td>34</td>\n",
       "      <td>1003.0</td>\n",
       "      <td>159.0</td>\n",
       "      <td>368.0</td>\n",
       "      <td>42.0</td>\n",
       "      <td>112.0</td>\n",
       "      <td>36.0</td>\n",
       "      <td>66.0</td>\n",
       "      <td>...</td>\n",
       "      <td>0.432</td>\n",
       "      <td>0.375</td>\n",
       "      <td>0.545</td>\n",
       "      <td>29.5</td>\n",
       "      <td>11.6</td>\n",
       "      <td>2.9</td>\n",
       "      <td>2.1</td>\n",
       "      <td>2009-10</td>\n",
       "      <td>b/bradlav01</td>\n",
       "      <td>8.50</td>\n",
       "    </tr>\n",
       "    <tr>\n",
       "      <th>1</th>\n",
       "      <td>19.0</td>\n",
       "      <td>MICHIGAN</td>\n",
       "      <td>31</td>\n",
       "      <td>403.0</td>\n",
       "      <td>34.0</td>\n",
       "      <td>56.0</td>\n",
       "      <td>0.0</td>\n",
       "      <td>1.0</td>\n",
       "      <td>16.0</td>\n",
       "      <td>35.0</td>\n",
       "      <td>...</td>\n",
       "      <td>0.607</td>\n",
       "      <td>0.000</td>\n",
       "      <td>0.457</td>\n",
       "      <td>13.0</td>\n",
       "      <td>2.7</td>\n",
       "      <td>3.3</td>\n",
       "      <td>0.5</td>\n",
       "      <td>1989-90</td>\n",
       "      <td>r/rileyer01</td>\n",
       "      <td>8.75</td>\n",
       "    </tr>\n",
       "    <tr>\n",
       "      <th>2</th>\n",
       "      <td>20.0</td>\n",
       "      <td>MICHIGAN</td>\n",
       "      <td>28</td>\n",
       "      <td>840.0</td>\n",
       "      <td>105.0</td>\n",
       "      <td>235.0</td>\n",
       "      <td>0.0</td>\n",
       "      <td>1.0</td>\n",
       "      <td>87.0</td>\n",
       "      <td>115.0</td>\n",
       "      <td>...</td>\n",
       "      <td>0.447</td>\n",
       "      <td>0.000</td>\n",
       "      <td>0.757</td>\n",
       "      <td>30.0</td>\n",
       "      <td>10.6</td>\n",
       "      <td>8.6</td>\n",
       "      <td>1.0</td>\n",
       "      <td>1990-91</td>\n",
       "      <td>r/rileyer01</td>\n",
       "      <td>8.75</td>\n",
       "    </tr>\n",
       "    <tr>\n",
       "      <th>3</th>\n",
       "      <td>21.0</td>\n",
       "      <td>MICHIGAN</td>\n",
       "      <td>32</td>\n",
       "      <td>480.0</td>\n",
       "      <td>82.0</td>\n",
       "      <td>139.0</td>\n",
       "      <td>NaN</td>\n",
       "      <td>NaN</td>\n",
       "      <td>37.0</td>\n",
       "      <td>64.0</td>\n",
       "      <td>...</td>\n",
       "      <td>0.590</td>\n",
       "      <td>NaN</td>\n",
       "      <td>0.578</td>\n",
       "      <td>15.0</td>\n",
       "      <td>6.3</td>\n",
       "      <td>4.3</td>\n",
       "      <td>0.7</td>\n",
       "      <td>1991-92</td>\n",
       "      <td>r/rileyer01</td>\n",
       "      <td>8.75</td>\n",
       "    </tr>\n",
       "    <tr>\n",
       "      <th>4</th>\n",
       "      <td>22.0</td>\n",
       "      <td>MICHIGAN</td>\n",
       "      <td>35</td>\n",
       "      <td>525.0</td>\n",
       "      <td>78.0</td>\n",
       "      <td>133.0</td>\n",
       "      <td>0.0</td>\n",
       "      <td>2.0</td>\n",
       "      <td>39.0</td>\n",
       "      <td>53.0</td>\n",
       "      <td>...</td>\n",
       "      <td>0.586</td>\n",
       "      <td>0.000</td>\n",
       "      <td>0.736</td>\n",
       "      <td>15.0</td>\n",
       "      <td>5.6</td>\n",
       "      <td>4.8</td>\n",
       "      <td>0.4</td>\n",
       "      <td>1992-93</td>\n",
       "      <td>r/rileyer01</td>\n",
       "      <td>8.75</td>\n",
       "    </tr>\n",
       "  </tbody>\n",
       "</table>\n",
       "<p>5 rows × 28 columns</p>\n",
       "</div>"
      ],
      "text/plain": [
       "    Age   College   G      MP     FG    FGA    3P    3PA    FT    FTA  \\\n",
       "0  19.0     TEXAS  34  1003.0  159.0  368.0  42.0  112.0  36.0   66.0   \n",
       "1  19.0  MICHIGAN  31   403.0   34.0   56.0   0.0    1.0  16.0   35.0   \n",
       "2  20.0  MICHIGAN  28   840.0  105.0  235.0   0.0    1.0  87.0  115.0   \n",
       "3  21.0  MICHIGAN  32   480.0   82.0  139.0   NaN    NaN  37.0   64.0   \n",
       "4  22.0  MICHIGAN  35   525.0   78.0  133.0   0.0    2.0  39.0   53.0   \n",
       "\n",
       "     ...        FG%    3P%    FT%  MP.1  PTS.1  TRB.1  AST.1   Season  \\\n",
       "0    ...      0.432  0.375  0.545  29.5   11.6    2.9    2.1  2009-10   \n",
       "1    ...      0.607  0.000  0.457  13.0    2.7    3.3    0.5  1989-90   \n",
       "2    ...      0.447  0.000  0.757  30.0   10.6    8.6    1.0  1990-91   \n",
       "3    ...      0.590    NaN  0.578  15.0    6.3    4.3    0.7  1991-92   \n",
       "4    ...      0.586  0.000  0.736  15.0    5.6    4.8    0.4  1992-93   \n",
       "\n",
       "          Name  Threshold  \n",
       "0  b/bradlav01       8.50  \n",
       "1  r/rileyer01       8.75  \n",
       "2  r/rileyer01       8.75  \n",
       "3  r/rileyer01       8.75  \n",
       "4  r/rileyer01       8.75  \n",
       "\n",
       "[5 rows x 28 columns]"
      ]
     },
     "execution_count": 47,
     "metadata": {},
     "output_type": "execute_result"
    }
   ],
   "source": [
    "temp2 = pd.DataFrame(college_clean.groupby(['Name'])['G'].max()*0.25)\n",
    "temp2.reset_index(inplace=True)\n",
    "temp2.columns = ['Name','Threshold']\n",
    "college_clean = college_clean.merge(temp2, on=\"Name\")\n",
    "college_clean.head()"
   ]
  },
  {
   "cell_type": "code",
   "execution_count": 48,
   "metadata": {
    "collapsed": false
   },
   "outputs": [
    {
     "data": {
      "text/html": [
       "<div>\n",
       "<table border=\"1\" class=\"dataframe\">\n",
       "  <thead>\n",
       "    <tr style=\"text-align: right;\">\n",
       "      <th></th>\n",
       "      <th>Age</th>\n",
       "      <th>College</th>\n",
       "      <th>G</th>\n",
       "      <th>MP</th>\n",
       "      <th>FG</th>\n",
       "      <th>FGA</th>\n",
       "      <th>3P</th>\n",
       "      <th>3PA</th>\n",
       "      <th>FT</th>\n",
       "      <th>FTA</th>\n",
       "      <th>...</th>\n",
       "      <th>FG%</th>\n",
       "      <th>3P%</th>\n",
       "      <th>FT%</th>\n",
       "      <th>MP.1</th>\n",
       "      <th>PTS.1</th>\n",
       "      <th>TRB.1</th>\n",
       "      <th>AST.1</th>\n",
       "      <th>Season</th>\n",
       "      <th>Name</th>\n",
       "      <th>Threshold</th>\n",
       "    </tr>\n",
       "  </thead>\n",
       "  <tbody>\n",
       "    <tr>\n",
       "      <th>0</th>\n",
       "      <td>19.0</td>\n",
       "      <td>TEXAS</td>\n",
       "      <td>34</td>\n",
       "      <td>1003.0</td>\n",
       "      <td>159.0</td>\n",
       "      <td>368.0</td>\n",
       "      <td>42.0</td>\n",
       "      <td>112.0</td>\n",
       "      <td>36.0</td>\n",
       "      <td>66.0</td>\n",
       "      <td>...</td>\n",
       "      <td>0.432</td>\n",
       "      <td>0.375</td>\n",
       "      <td>0.545</td>\n",
       "      <td>29.5</td>\n",
       "      <td>11.6</td>\n",
       "      <td>2.9</td>\n",
       "      <td>2.1</td>\n",
       "      <td>2009-10</td>\n",
       "      <td>b/bradlav01</td>\n",
       "      <td>8.50</td>\n",
       "    </tr>\n",
       "    <tr>\n",
       "      <th>1</th>\n",
       "      <td>19.0</td>\n",
       "      <td>MICHIGAN</td>\n",
       "      <td>31</td>\n",
       "      <td>403.0</td>\n",
       "      <td>34.0</td>\n",
       "      <td>56.0</td>\n",
       "      <td>0.0</td>\n",
       "      <td>1.0</td>\n",
       "      <td>16.0</td>\n",
       "      <td>35.0</td>\n",
       "      <td>...</td>\n",
       "      <td>0.607</td>\n",
       "      <td>0.000</td>\n",
       "      <td>0.457</td>\n",
       "      <td>13.0</td>\n",
       "      <td>2.7</td>\n",
       "      <td>3.3</td>\n",
       "      <td>0.5</td>\n",
       "      <td>1989-90</td>\n",
       "      <td>r/rileyer01</td>\n",
       "      <td>8.75</td>\n",
       "    </tr>\n",
       "    <tr>\n",
       "      <th>2</th>\n",
       "      <td>20.0</td>\n",
       "      <td>MICHIGAN</td>\n",
       "      <td>28</td>\n",
       "      <td>840.0</td>\n",
       "      <td>105.0</td>\n",
       "      <td>235.0</td>\n",
       "      <td>0.0</td>\n",
       "      <td>1.0</td>\n",
       "      <td>87.0</td>\n",
       "      <td>115.0</td>\n",
       "      <td>...</td>\n",
       "      <td>0.447</td>\n",
       "      <td>0.000</td>\n",
       "      <td>0.757</td>\n",
       "      <td>30.0</td>\n",
       "      <td>10.6</td>\n",
       "      <td>8.6</td>\n",
       "      <td>1.0</td>\n",
       "      <td>1990-91</td>\n",
       "      <td>r/rileyer01</td>\n",
       "      <td>8.75</td>\n",
       "    </tr>\n",
       "    <tr>\n",
       "      <th>3</th>\n",
       "      <td>21.0</td>\n",
       "      <td>MICHIGAN</td>\n",
       "      <td>32</td>\n",
       "      <td>480.0</td>\n",
       "      <td>82.0</td>\n",
       "      <td>139.0</td>\n",
       "      <td>NaN</td>\n",
       "      <td>NaN</td>\n",
       "      <td>37.0</td>\n",
       "      <td>64.0</td>\n",
       "      <td>...</td>\n",
       "      <td>0.590</td>\n",
       "      <td>NaN</td>\n",
       "      <td>0.578</td>\n",
       "      <td>15.0</td>\n",
       "      <td>6.3</td>\n",
       "      <td>4.3</td>\n",
       "      <td>0.7</td>\n",
       "      <td>1991-92</td>\n",
       "      <td>r/rileyer01</td>\n",
       "      <td>8.75</td>\n",
       "    </tr>\n",
       "    <tr>\n",
       "      <th>4</th>\n",
       "      <td>22.0</td>\n",
       "      <td>MICHIGAN</td>\n",
       "      <td>35</td>\n",
       "      <td>525.0</td>\n",
       "      <td>78.0</td>\n",
       "      <td>133.0</td>\n",
       "      <td>0.0</td>\n",
       "      <td>2.0</td>\n",
       "      <td>39.0</td>\n",
       "      <td>53.0</td>\n",
       "      <td>...</td>\n",
       "      <td>0.586</td>\n",
       "      <td>0.000</td>\n",
       "      <td>0.736</td>\n",
       "      <td>15.0</td>\n",
       "      <td>5.6</td>\n",
       "      <td>4.8</td>\n",
       "      <td>0.4</td>\n",
       "      <td>1992-93</td>\n",
       "      <td>r/rileyer01</td>\n",
       "      <td>8.75</td>\n",
       "    </tr>\n",
       "  </tbody>\n",
       "</table>\n",
       "<p>5 rows × 28 columns</p>\n",
       "</div>"
      ],
      "text/plain": [
       "    Age   College   G      MP     FG    FGA    3P    3PA    FT    FTA  \\\n",
       "0  19.0     TEXAS  34  1003.0  159.0  368.0  42.0  112.0  36.0   66.0   \n",
       "1  19.0  MICHIGAN  31   403.0   34.0   56.0   0.0    1.0  16.0   35.0   \n",
       "2  20.0  MICHIGAN  28   840.0  105.0  235.0   0.0    1.0  87.0  115.0   \n",
       "3  21.0  MICHIGAN  32   480.0   82.0  139.0   NaN    NaN  37.0   64.0   \n",
       "4  22.0  MICHIGAN  35   525.0   78.0  133.0   0.0    2.0  39.0   53.0   \n",
       "\n",
       "     ...        FG%    3P%    FT%  MP.1  PTS.1  TRB.1  AST.1   Season  \\\n",
       "0    ...      0.432  0.375  0.545  29.5   11.6    2.9    2.1  2009-10   \n",
       "1    ...      0.607  0.000  0.457  13.0    2.7    3.3    0.5  1989-90   \n",
       "2    ...      0.447  0.000  0.757  30.0   10.6    8.6    1.0  1990-91   \n",
       "3    ...      0.590    NaN  0.578  15.0    6.3    4.3    0.7  1991-92   \n",
       "4    ...      0.586  0.000  0.736  15.0    5.6    4.8    0.4  1992-93   \n",
       "\n",
       "          Name  Threshold  \n",
       "0  b/bradlav01       8.50  \n",
       "1  r/rileyer01       8.75  \n",
       "2  r/rileyer01       8.75  \n",
       "3  r/rileyer01       8.75  \n",
       "4  r/rileyer01       8.75  \n",
       "\n",
       "[5 rows x 28 columns]"
      ]
     },
     "execution_count": 48,
     "metadata": {},
     "output_type": "execute_result"
    }
   ],
   "source": [
    "college_clean = college_clean[college_clean.G >= college_clean.Threshold]\n",
    "college_clean.head()"
   ]
  },
  {
   "cell_type": "code",
   "execution_count": 49,
   "metadata": {
    "collapsed": false
   },
   "outputs": [
    {
     "data": {
      "text/plain": [
       "True"
      ]
     },
     "execution_count": 49,
     "metadata": {},
     "output_type": "execute_result"
    }
   ],
   "source": [
    "sum(college_clean.G >= college_clean.Threshold) == college_clean.shape[0]"
   ]
  },
  {
   "cell_type": "code",
   "execution_count": 50,
   "metadata": {
    "collapsed": false
   },
   "outputs": [
    {
     "data": {
      "text/plain": [
       "(6575, 28)"
      ]
     },
     "execution_count": 50,
     "metadata": {},
     "output_type": "execute_result"
    }
   ],
   "source": [
    "college_clean.shape"
   ]
  },
  {
   "cell_type": "markdown",
   "metadata": {},
   "source": [
    "#### 3. Calculate FT, FTA, FGA, 3PA, STL, BLK, TOV per game"
   ]
  },
  {
   "cell_type": "code",
   "execution_count": 51,
   "metadata": {
    "collapsed": false
   },
   "outputs": [],
   "source": [
    "college_clean[\"FT\"] = college_clean[\"FT\"]/college_clean[\"G\"]\n",
    "college_clean[\"FTA\"] = college_clean[\"FTA\"]/college_clean[\"G\"]\n",
    "college_clean[\"FGA\"] = college_clean[\"FGA\"]/college_clean[\"G\"]\n",
    "college_clean[\"3PA\"] = college_clean[\"3PA\"]/college_clean[\"G\"]\n",
    "college_clean[\"STL\"] = college_clean[\"STL\"]/college_clean[\"G\"]\n",
    "college_clean[\"BLK\"] = college_clean[\"BLK\"]/college_clean[\"G\"]\n",
    "college_clean[\"TOV\"] = college_clean[\"TOV\"]/college_clean[\"G\"]\n",
    "college_clean[\"ORB\"] = college_clean[\"ORB\"]/college_clean[\"G\"]\n",
    "college_clean[\"PF\"] = college_clean[\"PF\"]/college_clean[\"G\"]"
   ]
  },
  {
   "cell_type": "markdown",
   "metadata": {},
   "source": [
    "#### 4. Add one feature: calcuate number of actual years played for each player"
   ]
  },
  {
   "cell_type": "code",
   "execution_count": 52,
   "metadata": {
    "collapsed": false
   },
   "outputs": [
    {
     "data": {
      "text/html": [
       "<div>\n",
       "<table border=\"1\" class=\"dataframe\">\n",
       "  <thead>\n",
       "    <tr style=\"text-align: right;\">\n",
       "      <th></th>\n",
       "      <th>Age</th>\n",
       "      <th>College</th>\n",
       "      <th>G</th>\n",
       "      <th>MP</th>\n",
       "      <th>FG</th>\n",
       "      <th>FGA</th>\n",
       "      <th>3P</th>\n",
       "      <th>3PA</th>\n",
       "      <th>FT</th>\n",
       "      <th>FTA</th>\n",
       "      <th>...</th>\n",
       "      <th>3P%</th>\n",
       "      <th>FT%</th>\n",
       "      <th>MP.1</th>\n",
       "      <th>PTS.1</th>\n",
       "      <th>TRB.1</th>\n",
       "      <th>AST.1</th>\n",
       "      <th>Season</th>\n",
       "      <th>Name</th>\n",
       "      <th>Threshold</th>\n",
       "      <th>Years</th>\n",
       "    </tr>\n",
       "  </thead>\n",
       "  <tbody>\n",
       "    <tr>\n",
       "      <th>0</th>\n",
       "      <td>19.0</td>\n",
       "      <td>TEXAS</td>\n",
       "      <td>34</td>\n",
       "      <td>1003.0</td>\n",
       "      <td>159.0</td>\n",
       "      <td>10.823529</td>\n",
       "      <td>42.0</td>\n",
       "      <td>3.294118</td>\n",
       "      <td>1.058824</td>\n",
       "      <td>1.941176</td>\n",
       "      <td>...</td>\n",
       "      <td>0.375</td>\n",
       "      <td>0.545</td>\n",
       "      <td>29.5</td>\n",
       "      <td>11.6</td>\n",
       "      <td>2.9</td>\n",
       "      <td>2.1</td>\n",
       "      <td>2009-10</td>\n",
       "      <td>b/bradlav01</td>\n",
       "      <td>8.50</td>\n",
       "      <td>1</td>\n",
       "    </tr>\n",
       "    <tr>\n",
       "      <th>1</th>\n",
       "      <td>19.0</td>\n",
       "      <td>MICHIGAN</td>\n",
       "      <td>31</td>\n",
       "      <td>403.0</td>\n",
       "      <td>34.0</td>\n",
       "      <td>1.806452</td>\n",
       "      <td>0.0</td>\n",
       "      <td>0.032258</td>\n",
       "      <td>0.516129</td>\n",
       "      <td>1.129032</td>\n",
       "      <td>...</td>\n",
       "      <td>0.000</td>\n",
       "      <td>0.457</td>\n",
       "      <td>13.0</td>\n",
       "      <td>2.7</td>\n",
       "      <td>3.3</td>\n",
       "      <td>0.5</td>\n",
       "      <td>1989-90</td>\n",
       "      <td>r/rileyer01</td>\n",
       "      <td>8.75</td>\n",
       "      <td>4</td>\n",
       "    </tr>\n",
       "    <tr>\n",
       "      <th>2</th>\n",
       "      <td>20.0</td>\n",
       "      <td>MICHIGAN</td>\n",
       "      <td>28</td>\n",
       "      <td>840.0</td>\n",
       "      <td>105.0</td>\n",
       "      <td>8.392857</td>\n",
       "      <td>0.0</td>\n",
       "      <td>0.035714</td>\n",
       "      <td>3.107143</td>\n",
       "      <td>4.107143</td>\n",
       "      <td>...</td>\n",
       "      <td>0.000</td>\n",
       "      <td>0.757</td>\n",
       "      <td>30.0</td>\n",
       "      <td>10.6</td>\n",
       "      <td>8.6</td>\n",
       "      <td>1.0</td>\n",
       "      <td>1990-91</td>\n",
       "      <td>r/rileyer01</td>\n",
       "      <td>8.75</td>\n",
       "      <td>4</td>\n",
       "    </tr>\n",
       "    <tr>\n",
       "      <th>3</th>\n",
       "      <td>21.0</td>\n",
       "      <td>MICHIGAN</td>\n",
       "      <td>32</td>\n",
       "      <td>480.0</td>\n",
       "      <td>82.0</td>\n",
       "      <td>4.343750</td>\n",
       "      <td>NaN</td>\n",
       "      <td>NaN</td>\n",
       "      <td>1.156250</td>\n",
       "      <td>2.000000</td>\n",
       "      <td>...</td>\n",
       "      <td>NaN</td>\n",
       "      <td>0.578</td>\n",
       "      <td>15.0</td>\n",
       "      <td>6.3</td>\n",
       "      <td>4.3</td>\n",
       "      <td>0.7</td>\n",
       "      <td>1991-92</td>\n",
       "      <td>r/rileyer01</td>\n",
       "      <td>8.75</td>\n",
       "      <td>4</td>\n",
       "    </tr>\n",
       "    <tr>\n",
       "      <th>4</th>\n",
       "      <td>22.0</td>\n",
       "      <td>MICHIGAN</td>\n",
       "      <td>35</td>\n",
       "      <td>525.0</td>\n",
       "      <td>78.0</td>\n",
       "      <td>3.800000</td>\n",
       "      <td>0.0</td>\n",
       "      <td>0.057143</td>\n",
       "      <td>1.114286</td>\n",
       "      <td>1.514286</td>\n",
       "      <td>...</td>\n",
       "      <td>0.000</td>\n",
       "      <td>0.736</td>\n",
       "      <td>15.0</td>\n",
       "      <td>5.6</td>\n",
       "      <td>4.8</td>\n",
       "      <td>0.4</td>\n",
       "      <td>1992-93</td>\n",
       "      <td>r/rileyer01</td>\n",
       "      <td>8.75</td>\n",
       "      <td>4</td>\n",
       "    </tr>\n",
       "  </tbody>\n",
       "</table>\n",
       "<p>5 rows × 29 columns</p>\n",
       "</div>"
      ],
      "text/plain": [
       "    Age   College   G      MP     FG        FGA    3P       3PA        FT  \\\n",
       "0  19.0     TEXAS  34  1003.0  159.0  10.823529  42.0  3.294118  1.058824   \n",
       "1  19.0  MICHIGAN  31   403.0   34.0   1.806452   0.0  0.032258  0.516129   \n",
       "2  20.0  MICHIGAN  28   840.0  105.0   8.392857   0.0  0.035714  3.107143   \n",
       "3  21.0  MICHIGAN  32   480.0   82.0   4.343750   NaN       NaN  1.156250   \n",
       "4  22.0  MICHIGAN  35   525.0   78.0   3.800000   0.0  0.057143  1.114286   \n",
       "\n",
       "        FTA  ...      3P%    FT%  MP.1  PTS.1  TRB.1  AST.1   Season  \\\n",
       "0  1.941176  ...    0.375  0.545  29.5   11.6    2.9    2.1  2009-10   \n",
       "1  1.129032  ...    0.000  0.457  13.0    2.7    3.3    0.5  1989-90   \n",
       "2  4.107143  ...    0.000  0.757  30.0   10.6    8.6    1.0  1990-91   \n",
       "3  2.000000  ...      NaN  0.578  15.0    6.3    4.3    0.7  1991-92   \n",
       "4  1.514286  ...    0.000  0.736  15.0    5.6    4.8    0.4  1992-93   \n",
       "\n",
       "          Name  Threshold  Years  \n",
       "0  b/bradlav01       8.50      1  \n",
       "1  r/rileyer01       8.75      4  \n",
       "2  r/rileyer01       8.75      4  \n",
       "3  r/rileyer01       8.75      4  \n",
       "4  r/rileyer01       8.75      4  \n",
       "\n",
       "[5 rows x 29 columns]"
      ]
     },
     "execution_count": 52,
     "metadata": {},
     "output_type": "execute_result"
    }
   ],
   "source": [
    "temp3 = pd.DataFrame(college_clean.groupby(['Name'])['G'].count())\n",
    "temp3.reset_index(inplace=True)\n",
    "temp3.columns = ['Name','Years']\n",
    "college_clean = college_clean.merge(temp3, on=\"Name\")\n",
    "college_clean.head()"
   ]
  },
  {
   "cell_type": "code",
   "execution_count": 54,
   "metadata": {
    "collapsed": false
   },
   "outputs": [
    {
     "data": {
      "text/plain": [
       "(6575, 29)"
      ]
     },
     "execution_count": 54,
     "metadata": {},
     "output_type": "execute_result"
    }
   ],
   "source": [
    "college_clean.shape"
   ]
  },
  {
   "cell_type": "markdown",
   "metadata": {},
   "source": [
    "### Scrape NCAA AP Poll"
   ]
  },
  {
   "cell_type": "code",
   "execution_count": 56,
   "metadata": {
    "collapsed": true
   },
   "outputs": [],
   "source": [
    "## Scrape college rating data\n",
    "def AP_data_scraper(url):\n",
    "    ## scrape the college table\n",
    "    req = requests.get(url)\n",
    "    text = req.text\n",
    "    soup = BeautifulSoup(text, \"html.parser\")\n",
    "    table = soup.find('table', id = 'ad')\n",
    "    \n",
    "    column_headers = [th.getText() for th in soup.findAll('tr', limit=2)[1].findAll('th')]\n",
    "    \n",
    "    ## extract contents from the table\n",
    "    data_rows = soup.findAll('tr')[2:27]  # skip the first two columns and til 25 rows\n",
    "    cells = [[td.getText() for td in data_rows[i].findAll('td')] \n",
    "               for i in range(len(data_rows))]\n",
    "    \n",
    "    ## combine the columns and data as a data frame\n",
    "    df = pd.DataFrame(cells, columns=column_headers[1:])\n",
    "    return(df)"
   ]
  },
  {
   "cell_type": "code",
   "execution_count": 57,
   "metadata": {
    "collapsed": true
   },
   "outputs": [],
   "source": [
    "AP_poll_schools = defaultdict(list)\n",
    "\n",
    "for i in range(2016, 1988, -1):\n",
    "    url = \"http://www.sports-reference.com/cbb/seasons/\" + str(i) + \"-polls.html\"\n",
    "    df = AP_data_scraper(url)\n",
    "    \n",
    "    names = np.array(df['School'].values.astype(str))\n",
    "    for n in names:\n",
    "        n = str.split(n, '\\xa0*')[0]\n",
    "        AP_poll_schools[i].append(n)"
   ]
  },
  {
   "cell_type": "code",
   "execution_count": 58,
   "metadata": {
    "collapsed": false
   },
   "outputs": [],
   "source": [
    "for colleges in AP_poll_schools.items():\n",
    "    new = []\n",
    "    for college in colleges[1]:\n",
    "        new.append(college.upper())\n",
    "    AP_poll_schools[colleges[0]] = new"
   ]
  },
  {
   "cell_type": "code",
   "execution_count": 59,
   "metadata": {
    "collapsed": false
   },
   "outputs": [],
   "source": [
    "AP = []\n",
    "season = college_clean['Season'].values\n",
    "school = college_clean['College'].values\n",
    "for i in range(len(season)):\n",
    "    year = int(season[i][:4]) + 1\n",
    "    if school[i] in AP_poll_schools[year]:\n",
    "        AP.append(1)\n",
    "    else:\n",
    "        AP.append(0)\n",
    "college_clean['AP'] = AP"
   ]
  },
  {
   "cell_type": "markdown",
   "metadata": {},
   "source": [
    "### Get Physcal Attributes Data"
   ]
  },
  {
   "cell_type": "code",
   "execution_count": 60,
   "metadata": {
    "collapsed": true
   },
   "outputs": [],
   "source": [
    "df = pd.read_csv('Dataset/Measurement.csv')"
   ]
  },
  {
   "cell_type": "code",
   "execution_count": 61,
   "metadata": {
    "collapsed": false
   },
   "outputs": [],
   "source": [
    "player_measurement_raw = {}\n",
    "for name in df.PLAYER.astype(str):\n",
    "    info = list(df[df['PLAYER'] == name].values[0,2:])\n",
    "    for i in range(len(info)):\n",
    "        if info[i] == '-':\n",
    "            info[i] = np.nan\n",
    "        else:\n",
    "            info[i] = float(info[i])\n",
    "    player_measurement_raw[name] = info"
   ]
  },
  {
   "cell_type": "code",
   "execution_count": 62,
   "metadata": {
    "collapsed": false
   },
   "outputs": [
    {
     "data": {
      "text/plain": [
       "1011"
      ]
     },
     "execution_count": 62,
     "metadata": {},
     "output_type": "execute_result"
    }
   ],
   "source": [
    "len(player_measurement_raw) ## only 1011 players have physical data"
   ]
  },
  {
   "cell_type": "code",
   "execution_count": 64,
   "metadata": {
    "collapsed": false
   },
   "outputs": [],
   "source": [
    "player_measurement = {}\n",
    "for name in player_info.keys():\n",
    "    idx = name.find('\\\\')\n",
    "    if name[:idx] in player_measurement_raw:\n",
    "        player_measurement[name[idx+1:]] = player_measurement_raw[name[:idx]]"
   ]
  },
  {
   "cell_type": "code",
   "execution_count": 67,
   "metadata": {
    "collapsed": false
   },
   "outputs": [
    {
     "data": {
      "text/plain": [
       "641"
      ]
     },
     "execution_count": 67,
     "metadata": {},
     "output_type": "execute_result"
    }
   ],
   "source": [
    "len(player_measurement) ## only 641 ppl of those 1011 players actually playing in NBA"
   ]
  },
  {
   "cell_type": "code",
   "execution_count": 68,
   "metadata": {
    "collapsed": false
   },
   "outputs": [],
   "source": [
    "tmp = college_clean['Name'].values\n",
    "for i in range(len(tmp)):\n",
    "    tmp[i] = tmp[i][2:]\n",
    "college_clean['Name'] = tmp"
   ]
  },
  {
   "cell_type": "code",
   "execution_count": 69,
   "metadata": {
    "collapsed": false
   },
   "outputs": [],
   "source": [
    "college_clean['LAT'] = [np.nan] * len(college_clean)\n",
    "college_clean['SR'] = [np.nan] * len(college_clean)\n",
    "college_clean['TQS'] = [np.nan] * len(college_clean)\n",
    "college_clean['SVL'] = [np.nan] * len(college_clean)\n",
    "college_clean['MVL'] = [np.nan] * len(college_clean)\n",
    "college_clean['MBP'] = [np.nan] * len(college_clean)"
   ]
  },
  {
   "cell_type": "code",
   "execution_count": 72,
   "metadata": {
    "collapsed": false
   },
   "outputs": [
    {
     "name": "stdout",
     "output_type": "stream",
     "text": [
      "591\n"
     ]
    }
   ],
   "source": [
    "## add phycial attributes to the final dataset\n",
    "count=0\n",
    "for name in college_clean['Name'].unique():\n",
    "    if name in player_measurement:\n",
    "        count=count+1\n",
    "        idx = college_clean[college_clean['Name'] == name].index.tolist()\n",
    "        college_clean.loc[idx, ['LAT', 'SR', 'TQS', 'SVL', 'MVL', 'MBP']] = player_measurement[name]\n",
    "print(count) # there are 591 players with physical data in the NCAA record"
   ]
  },
  {
   "cell_type": "markdown",
   "metadata": {},
   "source": [
    "### Summarize each player data into one row using mean"
   ]
  },
  {
   "cell_type": "code",
   "execution_count": 73,
   "metadata": {
    "collapsed": false
   },
   "outputs": [
    {
     "data": {
      "text/plain": [
       "Index(['Name', 'Age', 'G', 'MP', 'FG', 'FGA', '3P', '3PA', 'FT', 'FTA', 'ORB',\n",
       "       'TRB', 'AST', 'STL', 'BLK', 'TOV', 'PF', 'PTS', 'FG%', '3P%', 'FT%',\n",
       "       'MP.1', 'PTS.1', 'TRB.1', 'AST.1', 'Threshold', 'Years', 'AP', 'LAT',\n",
       "       'SR', 'TQS', 'SVL', 'MVL', 'MBP'],\n",
       "      dtype='object')"
      ]
     },
     "execution_count": 73,
     "metadata": {},
     "output_type": "execute_result"
    }
   ],
   "source": [
    "college_average = pd.DataFrame(college_clean.groupby('Name').mean()).reset_index()\n",
    "college_average.columns"
   ]
  },
  {
   "cell_type": "code",
   "execution_count": 78,
   "metadata": {
    "collapsed": false
   },
   "outputs": [
    {
     "data": {
      "text/html": [
       "<div>\n",
       "<table border=\"1\" class=\"dataframe\">\n",
       "  <thead>\n",
       "    <tr style=\"text-align: right;\">\n",
       "      <th></th>\n",
       "      <th>Name</th>\n",
       "      <th>G</th>\n",
       "      <th>FGA</th>\n",
       "      <th>3PA</th>\n",
       "      <th>FTA</th>\n",
       "      <th>ORB</th>\n",
       "      <th>TRB.1</th>\n",
       "      <th>AST.1</th>\n",
       "      <th>STL</th>\n",
       "      <th>BLK</th>\n",
       "      <th>...</th>\n",
       "      <th>3P%</th>\n",
       "      <th>FT%</th>\n",
       "      <th>Years</th>\n",
       "      <th>AP</th>\n",
       "      <th>LAT</th>\n",
       "      <th>SR</th>\n",
       "      <th>TQS</th>\n",
       "      <th>SVL</th>\n",
       "      <th>MVL</th>\n",
       "      <th>MBP</th>\n",
       "    </tr>\n",
       "  </thead>\n",
       "  <tbody>\n",
       "    <tr>\n",
       "      <th>0</th>\n",
       "      <td>abdelal01</td>\n",
       "      <td>33.500000</td>\n",
       "      <td>5.375016</td>\n",
       "      <td>NaN</td>\n",
       "      <td>2.340140</td>\n",
       "      <td>NaN</td>\n",
       "      <td>3.525</td>\n",
       "      <td>0.325</td>\n",
       "      <td>0.351910</td>\n",
       "      <td>0.484922</td>\n",
       "      <td>...</td>\n",
       "      <td>NaN</td>\n",
       "      <td>0.674000</td>\n",
       "      <td>4.0</td>\n",
       "      <td>0.500000</td>\n",
       "      <td>NaN</td>\n",
       "      <td>NaN</td>\n",
       "      <td>NaN</td>\n",
       "      <td>NaN</td>\n",
       "      <td>NaN</td>\n",
       "      <td>NaN</td>\n",
       "    </tr>\n",
       "    <tr>\n",
       "      <th>1</th>\n",
       "      <td>abdulma02</td>\n",
       "      <td>32.000000</td>\n",
       "      <td>21.890625</td>\n",
       "      <td>7.218750</td>\n",
       "      <td>6.406250</td>\n",
       "      <td>NaN</td>\n",
       "      <td>2.950</td>\n",
       "      <td>3.650</td>\n",
       "      <td>1.671875</td>\n",
       "      <td>0.109375</td>\n",
       "      <td>...</td>\n",
       "      <td>0.373500</td>\n",
       "      <td>0.862500</td>\n",
       "      <td>2.0</td>\n",
       "      <td>0.000000</td>\n",
       "      <td>NaN</td>\n",
       "      <td>NaN</td>\n",
       "      <td>NaN</td>\n",
       "      <td>NaN</td>\n",
       "      <td>NaN</td>\n",
       "      <td>NaN</td>\n",
       "    </tr>\n",
       "    <tr>\n",
       "      <th>2</th>\n",
       "      <td>abdulta01</td>\n",
       "      <td>27.666667</td>\n",
       "      <td>11.285641</td>\n",
       "      <td>1.922756</td>\n",
       "      <td>4.859071</td>\n",
       "      <td>NaN</td>\n",
       "      <td>5.800</td>\n",
       "      <td>1.400</td>\n",
       "      <td>1.020833</td>\n",
       "      <td>0.599423</td>\n",
       "      <td>...</td>\n",
       "      <td>0.309667</td>\n",
       "      <td>0.678667</td>\n",
       "      <td>3.0</td>\n",
       "      <td>0.333333</td>\n",
       "      <td>NaN</td>\n",
       "      <td>NaN</td>\n",
       "      <td>NaN</td>\n",
       "      <td>NaN</td>\n",
       "      <td>NaN</td>\n",
       "      <td>NaN</td>\n",
       "    </tr>\n",
       "    <tr>\n",
       "      <th>3</th>\n",
       "      <td>abdursh01</td>\n",
       "      <td>28.000000</td>\n",
       "      <td>14.214286</td>\n",
       "      <td>0.750000</td>\n",
       "      <td>8.892857</td>\n",
       "      <td>NaN</td>\n",
       "      <td>8.400</td>\n",
       "      <td>1.000</td>\n",
       "      <td>1.857143</td>\n",
       "      <td>1.250000</td>\n",
       "      <td>...</td>\n",
       "      <td>0.381000</td>\n",
       "      <td>0.683000</td>\n",
       "      <td>1.0</td>\n",
       "      <td>0.000000</td>\n",
       "      <td>NaN</td>\n",
       "      <td>NaN</td>\n",
       "      <td>NaN</td>\n",
       "      <td>NaN</td>\n",
       "      <td>NaN</td>\n",
       "      <td>NaN</td>\n",
       "    </tr>\n",
       "    <tr>\n",
       "      <th>4</th>\n",
       "      <td>ackeral01</td>\n",
       "      <td>29.333333</td>\n",
       "      <td>11.107461</td>\n",
       "      <td>3.282642</td>\n",
       "      <td>3.524432</td>\n",
       "      <td>NaN</td>\n",
       "      <td>5.600</td>\n",
       "      <td>2.800</td>\n",
       "      <td>1.515493</td>\n",
       "      <td>0.430174</td>\n",
       "      <td>...</td>\n",
       "      <td>0.408333</td>\n",
       "      <td>0.822000</td>\n",
       "      <td>3.0</td>\n",
       "      <td>0.000000</td>\n",
       "      <td>11.67</td>\n",
       "      <td>NaN</td>\n",
       "      <td>3.35</td>\n",
       "      <td>28.0</td>\n",
       "      <td>32.0</td>\n",
       "      <td>11.0</td>\n",
       "    </tr>\n",
       "    <tr>\n",
       "      <th>5</th>\n",
       "      <td>acresma01</td>\n",
       "      <td>27.500000</td>\n",
       "      <td>12.562309</td>\n",
       "      <td>NaN</td>\n",
       "      <td>5.803502</td>\n",
       "      <td>NaN</td>\n",
       "      <td>9.475</td>\n",
       "      <td>NaN</td>\n",
       "      <td>1.376778</td>\n",
       "      <td>1.501394</td>\n",
       "      <td>...</td>\n",
       "      <td>NaN</td>\n",
       "      <td>0.697250</td>\n",
       "      <td>4.0</td>\n",
       "      <td>0.000000</td>\n",
       "      <td>NaN</td>\n",
       "      <td>NaN</td>\n",
       "      <td>NaN</td>\n",
       "      <td>NaN</td>\n",
       "      <td>NaN</td>\n",
       "      <td>NaN</td>\n",
       "    </tr>\n",
       "  </tbody>\n",
       "</table>\n",
       "<p>6 rows × 25 columns</p>\n",
       "</div>"
      ],
      "text/plain": [
       "        Name          G        FGA       3PA       FTA  ORB  TRB.1  AST.1  \\\n",
       "0  abdelal01  33.500000   5.375016       NaN  2.340140  NaN  3.525  0.325   \n",
       "1  abdulma02  32.000000  21.890625  7.218750  6.406250  NaN  2.950  3.650   \n",
       "2  abdulta01  27.666667  11.285641  1.922756  4.859071  NaN  5.800  1.400   \n",
       "3  abdursh01  28.000000  14.214286  0.750000  8.892857  NaN  8.400  1.000   \n",
       "4  ackeral01  29.333333  11.107461  3.282642  3.524432  NaN  5.600  2.800   \n",
       "5  acresma01  27.500000  12.562309       NaN  5.803502  NaN  9.475    NaN   \n",
       "\n",
       "        STL       BLK  ...        3P%       FT%  Years        AP    LAT  SR  \\\n",
       "0  0.351910  0.484922  ...        NaN  0.674000    4.0  0.500000    NaN NaN   \n",
       "1  1.671875  0.109375  ...   0.373500  0.862500    2.0  0.000000    NaN NaN   \n",
       "2  1.020833  0.599423  ...   0.309667  0.678667    3.0  0.333333    NaN NaN   \n",
       "3  1.857143  1.250000  ...   0.381000  0.683000    1.0  0.000000    NaN NaN   \n",
       "4  1.515493  0.430174  ...   0.408333  0.822000    3.0  0.000000  11.67 NaN   \n",
       "5  1.376778  1.501394  ...        NaN  0.697250    4.0  0.000000    NaN NaN   \n",
       "\n",
       "    TQS   SVL   MVL   MBP  \n",
       "0   NaN   NaN   NaN   NaN  \n",
       "1   NaN   NaN   NaN   NaN  \n",
       "2   NaN   NaN   NaN   NaN  \n",
       "3   NaN   NaN   NaN   NaN  \n",
       "4  3.35  28.0  32.0  11.0  \n",
       "5   NaN   NaN   NaN   NaN  \n",
       "\n",
       "[6 rows x 25 columns]"
      ]
     },
     "execution_count": 78,
     "metadata": {},
     "output_type": "execute_result"
    }
   ],
   "source": [
    "college_average[['Name','G', 'FGA', '3PA', 'FTA', 'ORB', 'TRB.1', 'AST.1', 'STL', 'BLK', 'TOV', 'PF', 'MP.1','PTS.1', 'FG%', '3P%', 'FT%', 'Years', 'AP', 'LAT',\n",
    "       'SR', 'TQS', 'SVL', 'MVL', 'MBP']].head(6)"
   ]
  },
  {
   "cell_type": "code",
   "execution_count": 120,
   "metadata": {
    "collapsed": true
   },
   "outputs": [],
   "source": [
    "new_college=college_average[['Name','G', 'FGA', '3PA', 'FTA', 'ORB', 'TRB.1', 'AST.1', 'STL', 'BLK', 'TOV', 'PF', 'MP.1','PTS.1', 'FG%', '3P%', 'FT%', 'Years', 'AP', 'LAT',\n",
    "       'SR', 'TQS', 'SVL', 'MVL', 'MBP']]"
   ]
  },
  {
   "cell_type": "code",
   "execution_count": 121,
   "metadata": {
    "collapsed": true
   },
   "outputs": [],
   "source": [
    "new_college.to_csv(\"Dataset/new_college.csv\",index=False)"
   ]
  },
  {
   "cell_type": "code",
   "execution_count": 122,
   "metadata": {
    "collapsed": true
   },
   "outputs": [],
   "source": [
    "new_college=pd.read_csv(\"Dataset/new_college.csv\")"
   ]
  },
  {
   "cell_type": "markdown",
   "metadata": {},
   "source": [
    "### Merge college player's VORP to the final dataset"
   ]
  },
  {
   "cell_type": "code",
   "execution_count": 123,
   "metadata": {
    "collapsed": false
   },
   "outputs": [
    {
     "data": {
      "text/plain": [
       "Name        0\n",
       "G           0\n",
       "FGA         2\n",
       "3PA       320\n",
       "FTA         2\n",
       "ORB      1599\n",
       "TRB.1       1\n",
       "AST.1     141\n",
       "STL       262\n",
       "BLK       264\n",
       "TOV       560\n",
       "PF        666\n",
       "MP.1      154\n",
       "PTS.1       0\n",
       "FG%         2\n",
       "3P%       395\n",
       "FT%         2\n",
       "Years       0\n",
       "AP          0\n",
       "LAT      1482\n",
       "SR       1887\n",
       "TQS      1477\n",
       "SVL      1472\n",
       "MVL      1473\n",
       "MBP      1529\n",
       "dtype: int64"
      ]
     },
     "execution_count": 123,
     "metadata": {},
     "output_type": "execute_result"
    }
   ],
   "source": [
    "new_college.isnull().sum()"
   ]
  },
  {
   "cell_type": "code",
   "execution_count": 124,
   "metadata": {
    "collapsed": false
   },
   "outputs": [
    {
     "data": {
      "text/plain": [
       "['Amir Johnson\\\\johnsam01',\n",
       " 'Frankie King\\\\kingfr01',\n",
       " 'Cedric Bozeman\\\\bozemce01']"
      ]
     },
     "execution_count": 124,
     "metadata": {},
     "output_type": "execute_result"
    }
   ],
   "source": [
    "player_VORP_max_list = list(player_VORP_max.keys())\n",
    "player_VORP_max_list[0:3] "
   ]
  },
  {
   "cell_type": "code",
   "execution_count": 125,
   "metadata": {
    "collapsed": true
   },
   "outputs": [],
   "source": [
    "player_VORP_max_name=[]\n",
    "for i in player_VORP_max_list:\n",
    "    name = i.split('\\\\')[1]\n",
    "    player_VORP_max_name.append(name)"
   ]
  },
  {
   "cell_type": "code",
   "execution_count": 126,
   "metadata": {
    "collapsed": false
   },
   "outputs": [
    {
     "data": {
      "text/plain": [
       "['johnsam01', 'kingfr01', 'bozemce01']"
      ]
     },
     "execution_count": 126,
     "metadata": {},
     "output_type": "execute_result"
    }
   ],
   "source": [
    "player_VORP_max_name[0:3]"
   ]
  },
  {
   "cell_type": "code",
   "execution_count": 127,
   "metadata": {
    "collapsed": true
   },
   "outputs": [],
   "source": [
    "player_VORP_max_value=list(player_VORP_max.values())"
   ]
  },
  {
   "cell_type": "code",
   "execution_count": 128,
   "metadata": {
    "collapsed": false
   },
   "outputs": [
    {
     "data": {
      "text/html": [
       "<div>\n",
       "<table border=\"1\" class=\"dataframe\">\n",
       "  <thead>\n",
       "    <tr style=\"text-align: right;\">\n",
       "      <th></th>\n",
       "      <th>Name</th>\n",
       "      <th>VORP_Max</th>\n",
       "    </tr>\n",
       "  </thead>\n",
       "  <tbody>\n",
       "    <tr>\n",
       "      <th>0</th>\n",
       "      <td>johnsam01</td>\n",
       "      <td>3.2</td>\n",
       "    </tr>\n",
       "    <tr>\n",
       "      <th>1</th>\n",
       "      <td>kingfr01</td>\n",
       "      <td>0.0</td>\n",
       "    </tr>\n",
       "    <tr>\n",
       "      <th>2</th>\n",
       "      <td>bozemce01</td>\n",
       "      <td>-0.3</td>\n",
       "    </tr>\n",
       "    <tr>\n",
       "      <th>3</th>\n",
       "      <td>richajo01</td>\n",
       "      <td>0.7</td>\n",
       "    </tr>\n",
       "    <tr>\n",
       "      <th>4</th>\n",
       "      <td>huntece01</td>\n",
       "      <td>0.0</td>\n",
       "    </tr>\n",
       "    <tr>\n",
       "      <th>5</th>\n",
       "      <td>jonesch01</td>\n",
       "      <td>2.1</td>\n",
       "    </tr>\n",
       "  </tbody>\n",
       "</table>\n",
       "</div>"
      ],
      "text/plain": [
       "        Name  VORP_Max\n",
       "0  johnsam01       3.2\n",
       "1   kingfr01       0.0\n",
       "2  bozemce01      -0.3\n",
       "3  richajo01       0.7\n",
       "4  huntece01       0.0\n",
       "5  jonesch01       2.1"
      ]
     },
     "execution_count": 128,
     "metadata": {},
     "output_type": "execute_result"
    }
   ],
   "source": [
    "VORP_max_df = pd.DataFrame({'Name':player_VORP_max_name, 'VORP_Max':player_VORP_max_value})\n",
    "VORP_max_df[0:6]"
   ]
  },
  {
   "cell_type": "code",
   "execution_count": 129,
   "metadata": {
    "collapsed": false
   },
   "outputs": [
    {
     "data": {
      "text/html": [
       "<div>\n",
       "<table border=\"1\" class=\"dataframe\">\n",
       "  <thead>\n",
       "    <tr style=\"text-align: right;\">\n",
       "      <th></th>\n",
       "      <th>Name</th>\n",
       "      <th>VORP_Max</th>\n",
       "    </tr>\n",
       "  </thead>\n",
       "  <tbody>\n",
       "    <tr>\n",
       "      <th>1896</th>\n",
       "      <td>millspa02</td>\n",
       "      <td>2.0</td>\n",
       "    </tr>\n",
       "  </tbody>\n",
       "</table>\n",
       "</div>"
      ],
      "text/plain": [
       "           Name  VORP_Max\n",
       "1896  millspa02       2.0"
      ]
     },
     "execution_count": 129,
     "metadata": {},
     "output_type": "execute_result"
    }
   ],
   "source": [
    "VORP_max_df[VORP_max_df['Name']=='millspa02'] # the duplicate name is successfully deleted"
   ]
  },
  {
   "cell_type": "code",
   "execution_count": 130,
   "metadata": {
    "collapsed": true
   },
   "outputs": [],
   "source": [
    "new_college = new_college.merge(VORP_max_df, how='left',on=\"Name\")"
   ]
  },
  {
   "cell_type": "code",
   "execution_count": 131,
   "metadata": {
    "collapsed": false
   },
   "outputs": [
    {
     "data": {
      "text/plain": [
       "(2001, 26)"
      ]
     },
     "execution_count": 131,
     "metadata": {},
     "output_type": "execute_result"
    }
   ],
   "source": [
    "new_college.shape"
   ]
  },
  {
   "cell_type": "code",
   "execution_count": 132,
   "metadata": {
    "collapsed": false
   },
   "outputs": [
    {
     "data": {
      "text/html": [
       "<div>\n",
       "<table border=\"1\" class=\"dataframe\">\n",
       "  <thead>\n",
       "    <tr style=\"text-align: right;\">\n",
       "      <th></th>\n",
       "      <th>Name</th>\n",
       "      <th>G</th>\n",
       "      <th>FGA</th>\n",
       "      <th>3PA</th>\n",
       "      <th>FTA</th>\n",
       "      <th>ORB</th>\n",
       "      <th>TRB.1</th>\n",
       "      <th>AST.1</th>\n",
       "      <th>STL</th>\n",
       "      <th>BLK</th>\n",
       "      <th>...</th>\n",
       "      <th>FT%</th>\n",
       "      <th>Years</th>\n",
       "      <th>AP</th>\n",
       "      <th>LAT</th>\n",
       "      <th>SR</th>\n",
       "      <th>TQS</th>\n",
       "      <th>SVL</th>\n",
       "      <th>MVL</th>\n",
       "      <th>MBP</th>\n",
       "      <th>VORP_Max</th>\n",
       "    </tr>\n",
       "  </thead>\n",
       "  <tbody>\n",
       "    <tr>\n",
       "      <th>0</th>\n",
       "      <td>abdelal01</td>\n",
       "      <td>33.500000</td>\n",
       "      <td>5.375016</td>\n",
       "      <td>NaN</td>\n",
       "      <td>2.340140</td>\n",
       "      <td>NaN</td>\n",
       "      <td>3.525</td>\n",
       "      <td>0.325</td>\n",
       "      <td>0.351910</td>\n",
       "      <td>0.484922</td>\n",
       "      <td>...</td>\n",
       "      <td>0.674000</td>\n",
       "      <td>4.0</td>\n",
       "      <td>0.500000</td>\n",
       "      <td>NaN</td>\n",
       "      <td>NaN</td>\n",
       "      <td>NaN</td>\n",
       "      <td>NaN</td>\n",
       "      <td>NaN</td>\n",
       "      <td>NaN</td>\n",
       "      <td>-0.2</td>\n",
       "    </tr>\n",
       "    <tr>\n",
       "      <th>1</th>\n",
       "      <td>abdulma02</td>\n",
       "      <td>32.000000</td>\n",
       "      <td>21.890625</td>\n",
       "      <td>7.218750</td>\n",
       "      <td>6.406250</td>\n",
       "      <td>NaN</td>\n",
       "      <td>2.950</td>\n",
       "      <td>3.650</td>\n",
       "      <td>1.671875</td>\n",
       "      <td>0.109375</td>\n",
       "      <td>...</td>\n",
       "      <td>0.862500</td>\n",
       "      <td>2.0</td>\n",
       "      <td>0.000000</td>\n",
       "      <td>NaN</td>\n",
       "      <td>NaN</td>\n",
       "      <td>NaN</td>\n",
       "      <td>NaN</td>\n",
       "      <td>NaN</td>\n",
       "      <td>NaN</td>\n",
       "      <td>1.6</td>\n",
       "    </tr>\n",
       "    <tr>\n",
       "      <th>2</th>\n",
       "      <td>abdulta01</td>\n",
       "      <td>27.666667</td>\n",
       "      <td>11.285641</td>\n",
       "      <td>1.922756</td>\n",
       "      <td>4.859071</td>\n",
       "      <td>NaN</td>\n",
       "      <td>5.800</td>\n",
       "      <td>1.400</td>\n",
       "      <td>1.020833</td>\n",
       "      <td>0.599423</td>\n",
       "      <td>...</td>\n",
       "      <td>0.678667</td>\n",
       "      <td>3.0</td>\n",
       "      <td>0.333333</td>\n",
       "      <td>NaN</td>\n",
       "      <td>NaN</td>\n",
       "      <td>NaN</td>\n",
       "      <td>NaN</td>\n",
       "      <td>NaN</td>\n",
       "      <td>NaN</td>\n",
       "      <td>0.2</td>\n",
       "    </tr>\n",
       "    <tr>\n",
       "      <th>3</th>\n",
       "      <td>abdursh01</td>\n",
       "      <td>28.000000</td>\n",
       "      <td>14.214286</td>\n",
       "      <td>0.750000</td>\n",
       "      <td>8.892857</td>\n",
       "      <td>NaN</td>\n",
       "      <td>8.400</td>\n",
       "      <td>1.000</td>\n",
       "      <td>1.857143</td>\n",
       "      <td>1.250000</td>\n",
       "      <td>...</td>\n",
       "      <td>0.683000</td>\n",
       "      <td>1.0</td>\n",
       "      <td>0.000000</td>\n",
       "      <td>NaN</td>\n",
       "      <td>NaN</td>\n",
       "      <td>NaN</td>\n",
       "      <td>NaN</td>\n",
       "      <td>NaN</td>\n",
       "      <td>NaN</td>\n",
       "      <td>3.5</td>\n",
       "    </tr>\n",
       "    <tr>\n",
       "      <th>4</th>\n",
       "      <td>ackeral01</td>\n",
       "      <td>29.333333</td>\n",
       "      <td>11.107461</td>\n",
       "      <td>3.282642</td>\n",
       "      <td>3.524432</td>\n",
       "      <td>NaN</td>\n",
       "      <td>5.600</td>\n",
       "      <td>2.800</td>\n",
       "      <td>1.515493</td>\n",
       "      <td>0.430174</td>\n",
       "      <td>...</td>\n",
       "      <td>0.822000</td>\n",
       "      <td>3.0</td>\n",
       "      <td>0.000000</td>\n",
       "      <td>11.67</td>\n",
       "      <td>NaN</td>\n",
       "      <td>3.35</td>\n",
       "      <td>28.0</td>\n",
       "      <td>32.0</td>\n",
       "      <td>11.0</td>\n",
       "      <td>-0.1</td>\n",
       "    </tr>\n",
       "  </tbody>\n",
       "</table>\n",
       "<p>5 rows × 26 columns</p>\n",
       "</div>"
      ],
      "text/plain": [
       "        Name          G        FGA       3PA       FTA  ORB  TRB.1  AST.1  \\\n",
       "0  abdelal01  33.500000   5.375016       NaN  2.340140  NaN  3.525  0.325   \n",
       "1  abdulma02  32.000000  21.890625  7.218750  6.406250  NaN  2.950  3.650   \n",
       "2  abdulta01  27.666667  11.285641  1.922756  4.859071  NaN  5.800  1.400   \n",
       "3  abdursh01  28.000000  14.214286  0.750000  8.892857  NaN  8.400  1.000   \n",
       "4  ackeral01  29.333333  11.107461  3.282642  3.524432  NaN  5.600  2.800   \n",
       "\n",
       "        STL       BLK    ...          FT%  Years        AP    LAT  SR   TQS  \\\n",
       "0  0.351910  0.484922    ...     0.674000    4.0  0.500000    NaN NaN   NaN   \n",
       "1  1.671875  0.109375    ...     0.862500    2.0  0.000000    NaN NaN   NaN   \n",
       "2  1.020833  0.599423    ...     0.678667    3.0  0.333333    NaN NaN   NaN   \n",
       "3  1.857143  1.250000    ...     0.683000    1.0  0.000000    NaN NaN   NaN   \n",
       "4  1.515493  0.430174    ...     0.822000    3.0  0.000000  11.67 NaN  3.35   \n",
       "\n",
       "    SVL   MVL   MBP  VORP_Max  \n",
       "0   NaN   NaN   NaN      -0.2  \n",
       "1   NaN   NaN   NaN       1.6  \n",
       "2   NaN   NaN   NaN       0.2  \n",
       "3   NaN   NaN   NaN       3.5  \n",
       "4  28.0  32.0  11.0      -0.1  \n",
       "\n",
       "[5 rows x 26 columns]"
      ]
     },
     "execution_count": 132,
     "metadata": {},
     "output_type": "execute_result"
    }
   ],
   "source": [
    "new_college.head()"
   ]
  },
  {
   "cell_type": "code",
   "execution_count": 133,
   "metadata": {
    "collapsed": false
   },
   "outputs": [],
   "source": [
    "new_college.to_csv(\"Dataset/new_college3.csv\",index=False)"
   ]
  },
  {
   "cell_type": "code",
   "execution_count": null,
   "metadata": {
    "collapsed": true
   },
   "outputs": [],
   "source": []
  }
 ],
 "metadata": {
  "anaconda-cloud": {},
  "kernelspec": {
   "display_name": "Python 3",
   "language": "python",
   "name": "python3"
  },
  "language_info": {
   "codemirror_mode": {
    "name": "ipython",
    "version": 3
   },
   "file_extension": ".py",
   "mimetype": "text/x-python",
   "name": "python",
   "nbconvert_exporter": "python",
   "pygments_lexer": "ipython3",
   "version": "3.5.2"
  }
 },
 "nbformat": 4,
 "nbformat_minor": 1
}
