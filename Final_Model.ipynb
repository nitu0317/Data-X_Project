{
 "cells": [
  {
   "cell_type": "code",
   "execution_count": 1,
   "metadata": {
    "collapsed": true
   },
   "outputs": [],
   "source": [
    "import numpy as np\n",
    "import pandas as pd\n",
    "from collections import defaultdict\n",
    "from matplotlib import pyplot as plt\n",
    "%matplotlib inline"
   ]
  },
  {
   "cell_type": "code",
   "execution_count": 2,
   "metadata": {
    "collapsed": true
   },
   "outputs": [],
   "source": [
    "from sklearn.tree import DecisionTreeRegressor"
   ]
  },
  {
   "cell_type": "code",
   "execution_count": 3,
   "metadata": {
    "collapsed": true
   },
   "outputs": [],
   "source": [
    "from sklearn import linear_model"
   ]
  },
  {
   "cell_type": "code",
   "execution_count": 4,
   "metadata": {
    "collapsed": false
   },
   "outputs": [],
   "source": [
    "#df = pd.read_csv(\"Dataset/new_college2.csv\") ## avg\n",
    "df = pd.read_csv(\"Dataset/new_college3.csv\") ## max"
   ]
  },
  {
   "cell_type": "code",
   "execution_count": 5,
   "metadata": {
    "collapsed": false
   },
   "outputs": [],
   "source": [
    "mask = np.sum(df[['LAT','SR','TQS','SVL','MVL','MBP']].isnull().values, axis=1) < 6"
   ]
  },
  {
   "cell_type": "code",
   "execution_count": 6,
   "metadata": {
    "collapsed": false
   },
   "outputs": [],
   "source": [
    "df_physical = df[mask]"
   ]
  },
  {
   "cell_type": "markdown",
   "metadata": {},
   "source": [
    "#### Fill missing values with mean"
   ]
  },
  {
   "cell_type": "code",
   "execution_count": 7,
   "metadata": {
    "collapsed": false
   },
   "outputs": [],
   "source": [
    "df_cleaned = df.fillna(np.mean(df, axis=0))"
   ]
  },
  {
   "cell_type": "code",
   "execution_count": 8,
   "metadata": {
    "collapsed": true
   },
   "outputs": [],
   "source": [
    "df_physical_cleaned = df_physical.fillna(np.mean(df_physical, axis=0))"
   ]
  },
  {
   "cell_type": "code",
   "execution_count": 9,
   "metadata": {
    "collapsed": false
   },
   "outputs": [
    {
     "data": {
      "text/plain": [
       "(2001, 26)"
      ]
     },
     "execution_count": 9,
     "metadata": {},
     "output_type": "execute_result"
    }
   ],
   "source": [
    "df_cleaned.shape"
   ]
  },
  {
   "cell_type": "code",
   "execution_count": 10,
   "metadata": {
    "collapsed": false
   },
   "outputs": [
    {
     "data": {
      "text/plain": [
       "(543, 26)"
      ]
     },
     "execution_count": 10,
     "metadata": {},
     "output_type": "execute_result"
    }
   ],
   "source": [
    "df_physical_cleaned.shape"
   ]
  },
  {
   "cell_type": "code",
   "execution_count": 11,
   "metadata": {
    "collapsed": false
   },
   "outputs": [
    {
     "data": {
      "text/plain": [
       "Index(['Name', 'G', 'FGA', '3PA', 'FTA', 'ORB', 'TRB.1', 'AST.1', 'STL', 'BLK',\n",
       "       'TOV', 'PF', 'MP.1', 'PTS.1', 'FG%', '3P%', 'FT%', 'Years', 'AP', 'LAT',\n",
       "       'SR', 'TQS', 'SVL', 'MVL', 'MBP', 'VORP_Max'],\n",
       "      dtype='object')"
      ]
     },
     "execution_count": 11,
     "metadata": {},
     "output_type": "execute_result"
    }
   ],
   "source": [
    "df_cleaned.columns"
   ]
  },
  {
   "cell_type": "code",
   "execution_count": 12,
   "metadata": {
    "collapsed": false
   },
   "outputs": [],
   "source": [
    "from sklearn.preprocessing import StandardScaler\n"
   ]
  },
  {
   "cell_type": "code",
   "execution_count": 13,
   "metadata": {
    "collapsed": true
   },
   "outputs": [],
   "source": [
    "from sklearn import model_selection\n",
    "from sklearn.linear_model import LinearRegression"
   ]
  },
  {
   "cell_type": "markdown",
   "metadata": {},
   "source": [
    "#### Drop Physical Attributes"
   ]
  },
  {
   "cell_type": "code",
   "execution_count": 14,
   "metadata": {
    "collapsed": false
   },
   "outputs": [
    {
     "data": {
      "text/plain": [
       "Index(['Name', 'G', 'FGA', '3PA', 'FTA', 'ORB', 'TRB.1', 'AST.1', 'STL', 'BLK',\n",
       "       'TOV', 'PF', 'MP.1', 'PTS.1', 'FG%', '3P%', 'FT%', 'Years', 'AP', 'LAT',\n",
       "       'SR', 'TQS', 'SVL', 'MVL', 'MBP', 'VORP_Max'],\n",
       "      dtype='object')"
      ]
     },
     "execution_count": 14,
     "metadata": {},
     "output_type": "execute_result"
    }
   ],
   "source": [
    "df_cleaned.columns"
   ]
  },
  {
   "cell_type": "code",
   "execution_count": 15,
   "metadata": {
    "collapsed": false
   },
   "outputs": [],
   "source": [
    "df_cleaned = df_cleaned[['Name', 'G', 'FGA', '3PA', 'FTA', 'ORB', 'TRB.1', 'AST.1', 'STL', 'BLK',\n",
    "       'TOV', 'PF', 'MP.1', 'PTS.1', 'FG%', '3P%', 'FT%', 'Years', 'AP', 'VORP_Max']]"
   ]
  },
  {
   "cell_type": "markdown",
   "metadata": {},
   "source": [
    "#### one-hot encode year"
   ]
  },
  {
   "cell_type": "code",
   "execution_count": 134,
   "metadata": {
    "collapsed": false
   },
   "outputs": [],
   "source": [
    "df_cleaned[\"Y1\"]=0.0\n",
    "df_cleaned[\"Y2\"]=0.0\n",
    "df_cleaned[\"Y3\"]=0.0\n",
    "df_cleaned[\"Y4\"]=0.0"
   ]
  },
  {
   "cell_type": "code",
   "execution_count": 135,
   "metadata": {
    "collapsed": false
   },
   "outputs": [
    {
     "name": "stderr",
     "output_type": "stream",
     "text": [
      "/Users/farahshih/anaconda/lib/python3.5/site-packages/ipykernel/__main__.py:1: SettingWithCopyWarning: \n",
      "A value is trying to be set on a copy of a slice from a DataFrame\n",
      "\n",
      "See the caveats in the documentation: http://pandas.pydata.org/pandas-docs/stable/indexing.html#indexing-view-versus-copy\n",
      "  if __name__ == '__main__':\n",
      "/Users/farahshih/anaconda/lib/python3.5/site-packages/ipykernel/__main__.py:2: SettingWithCopyWarning: \n",
      "A value is trying to be set on a copy of a slice from a DataFrame\n",
      "\n",
      "See the caveats in the documentation: http://pandas.pydata.org/pandas-docs/stable/indexing.html#indexing-view-versus-copy\n",
      "  from ipykernel import kernelapp as app\n",
      "/Users/farahshih/anaconda/lib/python3.5/site-packages/ipykernel/__main__.py:3: SettingWithCopyWarning: \n",
      "A value is trying to be set on a copy of a slice from a DataFrame\n",
      "\n",
      "See the caveats in the documentation: http://pandas.pydata.org/pandas-docs/stable/indexing.html#indexing-view-versus-copy\n",
      "  app.launch_new_instance()\n",
      "/Users/farahshih/anaconda/lib/python3.5/site-packages/ipykernel/__main__.py:4: SettingWithCopyWarning: \n",
      "A value is trying to be set on a copy of a slice from a DataFrame\n",
      "\n",
      "See the caveats in the documentation: http://pandas.pydata.org/pandas-docs/stable/indexing.html#indexing-view-versus-copy\n"
     ]
    }
   ],
   "source": [
    "df_cleaned.Y1[df_cleaned[\"Years\"]==1.0]=1.0\n",
    "df_cleaned.Y2[df_cleaned[\"Years\"]==2.0]=1.0\n",
    "df_cleaned.Y3[df_cleaned[\"Years\"]==3.0]=1.0\n",
    "df_cleaned.Y4[df_cleaned[\"Years\"]==4.0]=1.0"
   ]
  },
  {
   "cell_type": "code",
   "execution_count": 144,
   "metadata": {
    "collapsed": true
   },
   "outputs": [],
   "source": [
    "df_physical_cleaned[\"Y1\"]=0.0\n",
    "df_physical_cleaned[\"Y2\"]=0.0\n",
    "df_physical_cleaned[\"Y3\"]=0.0\n",
    "df_physical_cleaned[\"Y4\"]=0.0"
   ]
  },
  {
   "cell_type": "code",
   "execution_count": 145,
   "metadata": {
    "collapsed": false
   },
   "outputs": [
    {
     "name": "stderr",
     "output_type": "stream",
     "text": [
      "/Users/farahshih/anaconda/lib/python3.5/site-packages/ipykernel/__main__.py:1: SettingWithCopyWarning: \n",
      "A value is trying to be set on a copy of a slice from a DataFrame\n",
      "\n",
      "See the caveats in the documentation: http://pandas.pydata.org/pandas-docs/stable/indexing.html#indexing-view-versus-copy\n",
      "  if __name__ == '__main__':\n",
      "/Users/farahshih/anaconda/lib/python3.5/site-packages/ipykernel/__main__.py:2: SettingWithCopyWarning: \n",
      "A value is trying to be set on a copy of a slice from a DataFrame\n",
      "\n",
      "See the caveats in the documentation: http://pandas.pydata.org/pandas-docs/stable/indexing.html#indexing-view-versus-copy\n",
      "  from ipykernel import kernelapp as app\n",
      "/Users/farahshih/anaconda/lib/python3.5/site-packages/ipykernel/__main__.py:3: SettingWithCopyWarning: \n",
      "A value is trying to be set on a copy of a slice from a DataFrame\n",
      "\n",
      "See the caveats in the documentation: http://pandas.pydata.org/pandas-docs/stable/indexing.html#indexing-view-versus-copy\n",
      "  app.launch_new_instance()\n",
      "/Users/farahshih/anaconda/lib/python3.5/site-packages/ipykernel/__main__.py:4: SettingWithCopyWarning: \n",
      "A value is trying to be set on a copy of a slice from a DataFrame\n",
      "\n",
      "See the caveats in the documentation: http://pandas.pydata.org/pandas-docs/stable/indexing.html#indexing-view-versus-copy\n"
     ]
    }
   ],
   "source": [
    "df_physical_cleaned.Y1[df_physical_cleaned[\"Years\"]==1.0]=1.0\n",
    "df_physical_cleaned.Y2[df_physical_cleaned[\"Years\"]==2.0]=1.0\n",
    "df_physical_cleaned.Y3[df_physical_cleaned[\"Years\"]==3.0]=1.0\n",
    "df_physical_cleaned.Y4[df_physical_cleaned[\"Years\"]==4.0]=1.0"
   ]
  },
  {
   "cell_type": "code",
   "execution_count": 136,
   "metadata": {
    "collapsed": false
   },
   "outputs": [
    {
     "data": {
      "text/html": [
       "<div>\n",
       "<table border=\"1\" class=\"dataframe\">\n",
       "  <thead>\n",
       "    <tr style=\"text-align: right;\">\n",
       "      <th></th>\n",
       "      <th>Name</th>\n",
       "      <th>G</th>\n",
       "      <th>FGA</th>\n",
       "      <th>3PA</th>\n",
       "      <th>FTA</th>\n",
       "      <th>ORB</th>\n",
       "      <th>TRB.1</th>\n",
       "      <th>AST.1</th>\n",
       "      <th>STL</th>\n",
       "      <th>BLK</th>\n",
       "      <th>...</th>\n",
       "      <th>FT%</th>\n",
       "      <th>Years</th>\n",
       "      <th>AP</th>\n",
       "      <th>VORP_Max</th>\n",
       "      <th>Y1</th>\n",
       "      <th>Y2</th>\n",
       "      <th>Y3</th>\n",
       "      <th>Y4</th>\n",
       "      <th>Superstar</th>\n",
       "      <th>Superstar2</th>\n",
       "    </tr>\n",
       "  </thead>\n",
       "  <tbody>\n",
       "    <tr>\n",
       "      <th>0</th>\n",
       "      <td>abdelal01</td>\n",
       "      <td>33.500000</td>\n",
       "      <td>5.375016</td>\n",
       "      <td>2.398469</td>\n",
       "      <td>2.340140</td>\n",
       "      <td>1.64398</td>\n",
       "      <td>3.525</td>\n",
       "      <td>0.325</td>\n",
       "      <td>0.351910</td>\n",
       "      <td>0.484922</td>\n",
       "      <td>...</td>\n",
       "      <td>0.674000</td>\n",
       "      <td>4.0</td>\n",
       "      <td>0.500000</td>\n",
       "      <td>-0.2</td>\n",
       "      <td>0.0</td>\n",
       "      <td>0.0</td>\n",
       "      <td>0.0</td>\n",
       "      <td>1.0</td>\n",
       "      <td>0</td>\n",
       "      <td>0</td>\n",
       "    </tr>\n",
       "    <tr>\n",
       "      <th>1</th>\n",
       "      <td>abdulma02</td>\n",
       "      <td>32.000000</td>\n",
       "      <td>21.890625</td>\n",
       "      <td>7.218750</td>\n",
       "      <td>6.406250</td>\n",
       "      <td>1.64398</td>\n",
       "      <td>2.950</td>\n",
       "      <td>3.650</td>\n",
       "      <td>1.671875</td>\n",
       "      <td>0.109375</td>\n",
       "      <td>...</td>\n",
       "      <td>0.862500</td>\n",
       "      <td>2.0</td>\n",
       "      <td>0.000000</td>\n",
       "      <td>1.6</td>\n",
       "      <td>0.0</td>\n",
       "      <td>1.0</td>\n",
       "      <td>0.0</td>\n",
       "      <td>0.0</td>\n",
       "      <td>1</td>\n",
       "      <td>2</td>\n",
       "    </tr>\n",
       "    <tr>\n",
       "      <th>2</th>\n",
       "      <td>abdulta01</td>\n",
       "      <td>27.666667</td>\n",
       "      <td>11.285641</td>\n",
       "      <td>1.922756</td>\n",
       "      <td>4.859071</td>\n",
       "      <td>1.64398</td>\n",
       "      <td>5.800</td>\n",
       "      <td>1.400</td>\n",
       "      <td>1.020833</td>\n",
       "      <td>0.599423</td>\n",
       "      <td>...</td>\n",
       "      <td>0.678667</td>\n",
       "      <td>3.0</td>\n",
       "      <td>0.333333</td>\n",
       "      <td>0.2</td>\n",
       "      <td>0.0</td>\n",
       "      <td>0.0</td>\n",
       "      <td>1.0</td>\n",
       "      <td>0.0</td>\n",
       "      <td>1</td>\n",
       "      <td>2</td>\n",
       "    </tr>\n",
       "    <tr>\n",
       "      <th>3</th>\n",
       "      <td>abdursh01</td>\n",
       "      <td>28.000000</td>\n",
       "      <td>14.214286</td>\n",
       "      <td>0.750000</td>\n",
       "      <td>8.892857</td>\n",
       "      <td>1.64398</td>\n",
       "      <td>8.400</td>\n",
       "      <td>1.000</td>\n",
       "      <td>1.857143</td>\n",
       "      <td>1.250000</td>\n",
       "      <td>...</td>\n",
       "      <td>0.683000</td>\n",
       "      <td>1.0</td>\n",
       "      <td>0.000000</td>\n",
       "      <td>3.5</td>\n",
       "      <td>1.0</td>\n",
       "      <td>0.0</td>\n",
       "      <td>0.0</td>\n",
       "      <td>0.0</td>\n",
       "      <td>1</td>\n",
       "      <td>2</td>\n",
       "    </tr>\n",
       "    <tr>\n",
       "      <th>4</th>\n",
       "      <td>ackeral01</td>\n",
       "      <td>29.333333</td>\n",
       "      <td>11.107461</td>\n",
       "      <td>3.282642</td>\n",
       "      <td>3.524432</td>\n",
       "      <td>1.64398</td>\n",
       "      <td>5.600</td>\n",
       "      <td>2.800</td>\n",
       "      <td>1.515493</td>\n",
       "      <td>0.430174</td>\n",
       "      <td>...</td>\n",
       "      <td>0.822000</td>\n",
       "      <td>3.0</td>\n",
       "      <td>0.000000</td>\n",
       "      <td>-0.1</td>\n",
       "      <td>0.0</td>\n",
       "      <td>0.0</td>\n",
       "      <td>1.0</td>\n",
       "      <td>0.0</td>\n",
       "      <td>0</td>\n",
       "      <td>0</td>\n",
       "    </tr>\n",
       "  </tbody>\n",
       "</table>\n",
       "<p>5 rows × 26 columns</p>\n",
       "</div>"
      ],
      "text/plain": [
       "        Name          G        FGA       3PA       FTA      ORB  TRB.1  AST.1  \\\n",
       "0  abdelal01  33.500000   5.375016  2.398469  2.340140  1.64398  3.525  0.325   \n",
       "1  abdulma02  32.000000  21.890625  7.218750  6.406250  1.64398  2.950  3.650   \n",
       "2  abdulta01  27.666667  11.285641  1.922756  4.859071  1.64398  5.800  1.400   \n",
       "3  abdursh01  28.000000  14.214286  0.750000  8.892857  1.64398  8.400  1.000   \n",
       "4  ackeral01  29.333333  11.107461  3.282642  3.524432  1.64398  5.600  2.800   \n",
       "\n",
       "        STL       BLK     ...           FT%  Years        AP  VORP_Max   Y1  \\\n",
       "0  0.351910  0.484922     ...      0.674000    4.0  0.500000      -0.2  0.0   \n",
       "1  1.671875  0.109375     ...      0.862500    2.0  0.000000       1.6  0.0   \n",
       "2  1.020833  0.599423     ...      0.678667    3.0  0.333333       0.2  0.0   \n",
       "3  1.857143  1.250000     ...      0.683000    1.0  0.000000       3.5  1.0   \n",
       "4  1.515493  0.430174     ...      0.822000    3.0  0.000000      -0.1  0.0   \n",
       "\n",
       "    Y2   Y3   Y4  Superstar  Superstar2  \n",
       "0  0.0  0.0  1.0          0           0  \n",
       "1  1.0  0.0  0.0          1           2  \n",
       "2  0.0  1.0  0.0          1           2  \n",
       "3  0.0  0.0  0.0          1           2  \n",
       "4  0.0  1.0  0.0          0           0  \n",
       "\n",
       "[5 rows x 26 columns]"
      ]
     },
     "execution_count": 136,
     "metadata": {},
     "output_type": "execute_result"
    }
   ],
   "source": [
    "df_cleaned.head()"
   ]
  },
  {
   "cell_type": "code",
   "execution_count": 20,
   "metadata": {
    "collapsed": false
   },
   "outputs": [
    {
     "data": {
      "text/html": [
       "<div>\n",
       "<table border=\"1\" class=\"dataframe\">\n",
       "  <thead>\n",
       "    <tr style=\"text-align: right;\">\n",
       "      <th></th>\n",
       "      <th>Name</th>\n",
       "      <th>G</th>\n",
       "      <th>FGA</th>\n",
       "      <th>3PA</th>\n",
       "      <th>FTA</th>\n",
       "      <th>ORB</th>\n",
       "      <th>TRB.1</th>\n",
       "      <th>AST.1</th>\n",
       "      <th>STL</th>\n",
       "      <th>BLK</th>\n",
       "      <th>...</th>\n",
       "      <th>SR</th>\n",
       "      <th>TQS</th>\n",
       "      <th>SVL</th>\n",
       "      <th>MVL</th>\n",
       "      <th>MBP</th>\n",
       "      <th>VORP_Max</th>\n",
       "      <th>Y1</th>\n",
       "      <th>Y2</th>\n",
       "      <th>Y3</th>\n",
       "      <th>Y4</th>\n",
       "    </tr>\n",
       "  </thead>\n",
       "  <tbody>\n",
       "    <tr>\n",
       "      <th>4</th>\n",
       "      <td>ackeral01</td>\n",
       "      <td>29.333333</td>\n",
       "      <td>11.107461</td>\n",
       "      <td>3.282642</td>\n",
       "      <td>3.524432</td>\n",
       "      <td>1.688196</td>\n",
       "      <td>5.600</td>\n",
       "      <td>2.800</td>\n",
       "      <td>1.515493</td>\n",
       "      <td>0.430174</td>\n",
       "      <td>...</td>\n",
       "      <td>3.045263</td>\n",
       "      <td>3.35</td>\n",
       "      <td>28.0</td>\n",
       "      <td>32.0</td>\n",
       "      <td>11.000000</td>\n",
       "      <td>-0.1</td>\n",
       "      <td>0.0</td>\n",
       "      <td>0.0</td>\n",
       "      <td>1.0</td>\n",
       "      <td>0.0</td>\n",
       "    </tr>\n",
       "    <tr>\n",
       "      <th>6</th>\n",
       "      <td>acyqu01</td>\n",
       "      <td>34.750000</td>\n",
       "      <td>6.030138</td>\n",
       "      <td>0.049024</td>\n",
       "      <td>3.591711</td>\n",
       "      <td>2.405757</td>\n",
       "      <td>5.925</td>\n",
       "      <td>0.625</td>\n",
       "      <td>0.736601</td>\n",
       "      <td>1.267874</td>\n",
       "      <td>...</td>\n",
       "      <td>3.045263</td>\n",
       "      <td>3.28</td>\n",
       "      <td>32.0</td>\n",
       "      <td>37.0</td>\n",
       "      <td>13.000000</td>\n",
       "      <td>0.5</td>\n",
       "      <td>0.0</td>\n",
       "      <td>0.0</td>\n",
       "      <td>0.0</td>\n",
       "      <td>1.0</td>\n",
       "    </tr>\n",
       "    <tr>\n",
       "      <th>8</th>\n",
       "      <td>adamsjo01</td>\n",
       "      <td>34.500000</td>\n",
       "      <td>11.549242</td>\n",
       "      <td>4.300505</td>\n",
       "      <td>4.943182</td>\n",
       "      <td>1.248737</td>\n",
       "      <td>4.550</td>\n",
       "      <td>2.050</td>\n",
       "      <td>2.425505</td>\n",
       "      <td>0.251263</td>\n",
       "      <td>...</td>\n",
       "      <td>3.050000</td>\n",
       "      <td>3.50</td>\n",
       "      <td>24.5</td>\n",
       "      <td>29.5</td>\n",
       "      <td>10.743644</td>\n",
       "      <td>0.1</td>\n",
       "      <td>0.0</td>\n",
       "      <td>1.0</td>\n",
       "      <td>0.0</td>\n",
       "      <td>0.0</td>\n",
       "    </tr>\n",
       "    <tr>\n",
       "      <th>10</th>\n",
       "      <td>adamsst01</td>\n",
       "      <td>32.000000</td>\n",
       "      <td>5.468750</td>\n",
       "      <td>0.000000</td>\n",
       "      <td>2.187500</td>\n",
       "      <td>2.812500</td>\n",
       "      <td>6.300</td>\n",
       "      <td>0.600</td>\n",
       "      <td>0.656250</td>\n",
       "      <td>2.031250</td>\n",
       "      <td>...</td>\n",
       "      <td>3.020000</td>\n",
       "      <td>3.40</td>\n",
       "      <td>28.5</td>\n",
       "      <td>33.0</td>\n",
       "      <td>16.000000</td>\n",
       "      <td>2.1</td>\n",
       "      <td>1.0</td>\n",
       "      <td>0.0</td>\n",
       "      <td>0.0</td>\n",
       "      <td>0.0</td>\n",
       "    </tr>\n",
       "    <tr>\n",
       "      <th>12</th>\n",
       "      <td>adrieje01</td>\n",
       "      <td>33.250000</td>\n",
       "      <td>8.771180</td>\n",
       "      <td>0.045312</td>\n",
       "      <td>4.923876</td>\n",
       "      <td>1.688196</td>\n",
       "      <td>8.450</td>\n",
       "      <td>1.100</td>\n",
       "      <td>0.593088</td>\n",
       "      <td>1.146505</td>\n",
       "      <td>...</td>\n",
       "      <td>3.045263</td>\n",
       "      <td>3.32</td>\n",
       "      <td>27.5</td>\n",
       "      <td>31.5</td>\n",
       "      <td>16.000000</td>\n",
       "      <td>0.2</td>\n",
       "      <td>0.0</td>\n",
       "      <td>0.0</td>\n",
       "      <td>0.0</td>\n",
       "      <td>1.0</td>\n",
       "    </tr>\n",
       "  </tbody>\n",
       "</table>\n",
       "<p>5 rows × 30 columns</p>\n",
       "</div>"
      ],
      "text/plain": [
       "         Name          G        FGA       3PA       FTA       ORB  TRB.1  \\\n",
       "4   ackeral01  29.333333  11.107461  3.282642  3.524432  1.688196  5.600   \n",
       "6     acyqu01  34.750000   6.030138  0.049024  3.591711  2.405757  5.925   \n",
       "8   adamsjo01  34.500000  11.549242  4.300505  4.943182  1.248737  4.550   \n",
       "10  adamsst01  32.000000   5.468750  0.000000  2.187500  2.812500  6.300   \n",
       "12  adrieje01  33.250000   8.771180  0.045312  4.923876  1.688196  8.450   \n",
       "\n",
       "    AST.1       STL       BLK ...         SR   TQS   SVL   MVL        MBP  \\\n",
       "4   2.800  1.515493  0.430174 ...   3.045263  3.35  28.0  32.0  11.000000   \n",
       "6   0.625  0.736601  1.267874 ...   3.045263  3.28  32.0  37.0  13.000000   \n",
       "8   2.050  2.425505  0.251263 ...   3.050000  3.50  24.5  29.5  10.743644   \n",
       "10  0.600  0.656250  2.031250 ...   3.020000  3.40  28.5  33.0  16.000000   \n",
       "12  1.100  0.593088  1.146505 ...   3.045263  3.32  27.5  31.5  16.000000   \n",
       "\n",
       "    VORP_Max   Y1   Y2   Y3   Y4  \n",
       "4       -0.1  0.0  0.0  1.0  0.0  \n",
       "6        0.5  0.0  0.0  0.0  1.0  \n",
       "8        0.1  0.0  1.0  0.0  0.0  \n",
       "10       2.1  1.0  0.0  0.0  0.0  \n",
       "12       0.2  0.0  0.0  0.0  1.0  \n",
       "\n",
       "[5 rows x 30 columns]"
      ]
     },
     "execution_count": 20,
     "metadata": {},
     "output_type": "execute_result"
    }
   ],
   "source": [
    "df_physical_cleaned.head()"
   ]
  },
  {
   "cell_type": "markdown",
   "metadata": {},
   "source": [
    "### Linear Regreesion Model"
   ]
  },
  {
   "cell_type": "code",
   "execution_count": 137,
   "metadata": {
    "collapsed": true
   },
   "outputs": [],
   "source": [
    "ten_fold = model_selection.KFold(n_splits=10)"
   ]
  },
  {
   "cell_type": "code",
   "execution_count": 146,
   "metadata": {
    "collapsed": false
   },
   "outputs": [
    {
     "name": "stdout",
     "output_type": "stream",
     "text": [
      "Mean of R Squared score of 10-fold cross validation: 0.17955482591025268 \n",
      "Std of R Squared score of 10-fold cross validation: 0.08395687864130669 \n",
      "MSE score of 10-fold cross validation: [ 2.26410313  1.39646326  1.94515484  2.01443625  2.24452558  2.22506941\n",
      "  2.37351937  2.390224    1.32057179  2.1752495 ] \n",
      "Mean of R Squared score of 10-fold cross validation: 0.09803553911269629 \n",
      "Std of R Squared score of 10-fold cross validation: 0.17929443091345693 \n",
      "MSE score of 10-fold cross validation: [ 1.9767305   1.1508344   2.46847142  2.3010976   1.94908995  2.22340705\n",
      "  2.18695247  3.17698106  1.22355723  2.61149076] \n"
     ]
    }
   ],
   "source": [
    "X_1_t = df_cleaned.ix[:,['G', 'FGA', '3PA', 'FTA', 'ORB', 'TRB.1', 'AST.1', 'STL', 'BLK', 'TOV', 'PF', 'MP.1', \n",
    "                       'PTS.1', 'FG%', '3P%', 'FT%', 'AP','Y1', 'Y2', 'Y3','Y4']]\n",
    "X_p_t = df_physical_cleaned.ix[:,['G', 'FGA', '3PA', 'FTA', 'ORB', 'TRB.1', 'AST.1', 'STL', 'BLK', 'TOV', 'PF', 'MP.1', \n",
    "                       'PTS.1', 'FG%', '3P%', 'FT%', 'AP','LAT','SR', 'TQS', 'SVL', 'MVL', 'MBP','Y1', 'Y2', 'Y3','Y4']]\n",
    "\n",
    "X_1 = X_1_t.values[:,:-4]\n",
    "X_p = X_p_t.values[:,:-4]\n",
    "Y_1 = df_cleaned.VORP_Max\n",
    "Y_p = df_physical_cleaned.VORP_Max\n",
    "X_1_normed = StandardScaler().fit_transform(X_1) ## standardize features\n",
    "X_p_normed = StandardScaler().fit_transform(X_p)\n",
    "X_1_normed = np.hstack([X_1_normed,X_1_t.values[:,-4:]]) \n",
    "X_p_normed = np.hstack([X_p_normed,X_p_t.values[:,-4:]]) \n",
    "lr_model_1 = LinearRegression()\n",
    "\n",
    "R2_1 = model_selection.cross_val_score(lr_model_1, X_1_normed, Y_1, cv=ten_fold, scoring='r2')\n",
    "MSE_1 = model_selection.cross_val_score(lr_model_1, X_1_normed, Y_1, cv=ten_fold, scoring='neg_mean_squared_error')\n",
    "\n",
    "R2_p = model_selection.cross_val_score(lr_model_1, X_p_normed, Y_p, cv=ten_fold, scoring='r2')\n",
    "MSE_p = model_selection.cross_val_score(lr_model_1, X_p_normed, Y_p, cv=ten_fold, scoring='neg_mean_squared_error')\n",
    "\n",
    "print(\"Mean of R Squared score of 10-fold cross validation: {0} \".format(R2_1.mean()))\n",
    "print(\"Std of R Squared score of 10-fold cross validation: {0} \".format(R2_1.std()))\n",
    "print(\"MSE score of 10-fold cross validation: {0} \".format(-MSE_1))\n",
    "\n",
    "print(\"Mean of R Squared score of 10-fold cross validation: {0} \".format(R2_p.mean()))\n",
    "print(\"Std of R Squared score of 10-fold cross validation: {0} \".format(R2_p.std()))\n",
    "print(\"MSE score of 10-fold cross validation: {0} \".format(-MSE_p))"
   ]
  },
  {
   "cell_type": "code",
   "execution_count": 139,
   "metadata": {
    "collapsed": false
   },
   "outputs": [],
   "source": [
    "lr_model= LinearRegression()\n",
    "lm = lr_model.fit(X_1_normed, Y_1)"
   ]
  },
  {
   "cell_type": "code",
   "execution_count": 140,
   "metadata": {
    "collapsed": false
   },
   "outputs": [
    {
     "data": {
      "text/plain": [
       "array([ 0.07769496, -0.35150476,  0.10989539, -0.06582232,  0.02967453,\n",
       "        0.30559012,  0.23041391,  0.51158085,  0.26314577, -0.05366762,\n",
       "       -0.01748695, -0.08188255,  0.37437546,  0.24343   ,  0.12376973,\n",
       "        0.06917822,  0.1133149 ,  0.75369588,  0.64572107,  0.70546757,\n",
       "        0.45116739])"
      ]
     },
     "execution_count": 140,
     "metadata": {},
     "output_type": "execute_result"
    }
   ],
   "source": [
    "lm.coef_\n",
    "# ['G', 'FGA', '3PA', 'FTA', 'ORB', \n",
    "# 'TRB.1', 'AST.1', 'STL', 'BLK', 'TOV', \n",
    "# 'PF', 'MP.1', 'PTS.1', 'FG%', '3P%', \n",
    "#'FT%', 'AP','Y1', 'Y2', 'Y3','Y4']"
   ]
  },
  {
   "cell_type": "code",
   "execution_count": 147,
   "metadata": {
    "collapsed": false
   },
   "outputs": [
    {
     "data": {
      "text/plain": [
       "array([  1.97628371e-03,  -1.62231832e+00,   4.15546519e-02,\n",
       "        -5.43122040e-01,   1.08480323e-01,   4.25046591e-01,\n",
       "         3.05985745e-01,   4.56979813e-01,   1.10865259e-01,\n",
       "        -5.28389594e-02,   9.65450247e-03,  -2.83373120e-01,\n",
       "         2.19909069e+00,  -7.94157056e-02,   4.55529572e-03,\n",
       "        -1.49747659e-01,   2.45279439e-01,   4.47283202e-02,\n",
       "         2.24939663e-04,  -1.26666089e-01,  -7.75601154e-02,\n",
       "         7.28072134e-02,   3.29974528e-02,   5.11995451e-01,\n",
       "        -2.38771248e-03,   1.95269884e-01,  -1.93930086e-01])"
      ]
     },
     "execution_count": 147,
     "metadata": {},
     "output_type": "execute_result"
    }
   ],
   "source": [
    "lr_p_model= LinearRegression()\n",
    "lm_p = lr_p_model.fit(X_p_normed, Y_p)\n",
    "lm_p.coef_"
   ]
  },
  {
   "cell_type": "markdown",
   "metadata": {},
   "source": [
    "### plot histogram of features"
   ]
  },
  {
   "cell_type": "code",
   "execution_count": 141,
   "metadata": {
    "collapsed": false
   },
   "outputs": [
    {
     "data": {
      "text/plain": [
       "array([[<matplotlib.axes._subplots.AxesSubplot object at 0x11cfbd908>,\n",
       "        <matplotlib.axes._subplots.AxesSubplot object at 0x11d73d400>,\n",
       "        <matplotlib.axes._subplots.AxesSubplot object at 0x11d66e668>,\n",
       "        <matplotlib.axes._subplots.AxesSubplot object at 0x1185c9320>,\n",
       "        <matplotlib.axes._subplots.AxesSubplot object at 0x11d790748>,\n",
       "        <matplotlib.axes._subplots.AxesSubplot object at 0x11d7cdba8>],\n",
       "       [<matplotlib.axes._subplots.AxesSubplot object at 0x11ebe1cf8>,\n",
       "        <matplotlib.axes._subplots.AxesSubplot object at 0x11ec282b0>,\n",
       "        <matplotlib.axes._subplots.AxesSubplot object at 0x11ec719b0>,\n",
       "        <matplotlib.axes._subplots.AxesSubplot object at 0x11ecb10f0>,\n",
       "        <matplotlib.axes._subplots.AxesSubplot object at 0x11ee01240>,\n",
       "        <matplotlib.axes._subplots.AxesSubplot object at 0x11ee4ac18>],\n",
       "       [<matplotlib.axes._subplots.AxesSubplot object at 0x11ee8acc0>,\n",
       "        <matplotlib.axes._subplots.AxesSubplot object at 0x11eed9048>,\n",
       "        <matplotlib.axes._subplots.AxesSubplot object at 0x11f0116d8>,\n",
       "        <matplotlib.axes._subplots.AxesSubplot object at 0x11f05a438>,\n",
       "        <matplotlib.axes._subplots.AxesSubplot object at 0x11f09d518>,\n",
       "        <matplotlib.axes._subplots.AxesSubplot object at 0x11f0e3ef0>],\n",
       "       [<matplotlib.axes._subplots.AxesSubplot object at 0x11f101ef0>,\n",
       "        <matplotlib.axes._subplots.AxesSubplot object at 0x11f170588>,\n",
       "        <matplotlib.axes._subplots.AxesSubplot object at 0x11f1b6f60>,\n",
       "        <matplotlib.axes._subplots.AxesSubplot object at 0x11f1f7c50>,\n",
       "        <matplotlib.axes._subplots.AxesSubplot object at 0x11f24b0b8>,\n",
       "        <matplotlib.axes._subplots.AxesSubplot object at 0x11f281780>],\n",
       "       [<matplotlib.axes._subplots.AxesSubplot object at 0x11f2ca4e0>,\n",
       "        <matplotlib.axes._subplots.AxesSubplot object at 0x11f2d5898>,\n",
       "        <matplotlib.axes._subplots.AxesSubplot object at 0x11f444cc0>,\n",
       "        <matplotlib.axes._subplots.AxesSubplot object at 0x11f4956d8>,\n",
       "        <matplotlib.axes._subplots.AxesSubplot object at 0x11f4d1dd8>,\n",
       "        <matplotlib.axes._subplots.AxesSubplot object at 0x11f520240>]], dtype=object)"
      ]
     },
     "execution_count": 141,
     "metadata": {},
     "output_type": "execute_result"
    },
    {
     "data": {
      "image/png": "[encoded data removed]",
      "text/plain": [
       "<matplotlib.figure.Figure at 0x11d662320>"
      ]
     },
     "metadata": {},
     "output_type": "display_data"
    }
   ],
   "source": [
    "df.hist(figsize=(12,8), layout=(5,6))"
   ]
  },
  {
   "cell_type": "markdown",
   "metadata": {},
   "source": [
    "## Binary Classification"
   ]
  },
  {
   "cell_type": "code",
   "execution_count": 148,
   "metadata": {
    "collapsed": false
   },
   "outputs": [
    {
     "name": "stderr",
     "output_type": "stream",
     "text": [
      "/Users/farahshih/anaconda/lib/python3.5/site-packages/ipykernel/__main__.py:2: SettingWithCopyWarning: \n",
      "A value is trying to be set on a copy of a slice from a DataFrame\n",
      "\n",
      "See the caveats in the documentation: http://pandas.pydata.org/pandas-docs/stable/indexing.html#indexing-view-versus-copy\n",
      "  from ipykernel import kernelapp as app\n"
     ]
    }
   ],
   "source": [
    "df_cleaned[\"Superstar\"]=\"0\"\n",
    "df_cleaned.Superstar[df_cleaned[\"VORP_Max\"]>=0.2]=\"1\""
   ]
  },
  {
   "cell_type": "code",
   "execution_count": 149,
   "metadata": {
    "collapsed": false
   },
   "outputs": [
    {
     "name": "stderr",
     "output_type": "stream",
     "text": [
      "/Users/farahshih/anaconda/lib/python3.5/site-packages/ipykernel/__main__.py:2: SettingWithCopyWarning: \n",
      "A value is trying to be set on a copy of a slice from a DataFrame\n",
      "\n",
      "See the caveats in the documentation: http://pandas.pydata.org/pandas-docs/stable/indexing.html#indexing-view-versus-copy\n",
      "  from ipykernel import kernelapp as app\n"
     ]
    }
   ],
   "source": [
    "df_physical_cleaned[\"Superstar\"]=\"0\"\n",
    "df_physical_cleaned.Superstar[df_cleaned[\"VORP_Max\"]>=0.2]=\"1\""
   ]
  },
  {
   "cell_type": "code",
   "execution_count": 150,
   "metadata": {
    "collapsed": false
   },
   "outputs": [],
   "source": [
    "Y_2 = df_cleaned.Superstar"
   ]
  },
  {
   "cell_type": "code",
   "execution_count": 151,
   "metadata": {
    "collapsed": false
   },
   "outputs": [
    {
     "data": {
      "text/plain": [
       "932"
      ]
     },
     "execution_count": 151,
     "metadata": {},
     "output_type": "execute_result"
    }
   ],
   "source": [
    "sum(Y_2==\"1\")"
   ]
  },
  {
   "cell_type": "code",
   "execution_count": 152,
   "metadata": {
    "collapsed": true
   },
   "outputs": [],
   "source": [
    "Y_p = df_physical_cleaned.Superstar"
   ]
  },
  {
   "cell_type": "code",
   "execution_count": 153,
   "metadata": {
    "collapsed": true
   },
   "outputs": [],
   "source": [
    "from sklearn.model_selection import train_test_split\n",
    "X_train, X_test, Y_train, Y_test = train_test_split(X_1_normed, Y_2)"
   ]
  },
  {
   "cell_type": "code",
   "execution_count": 154,
   "metadata": {
    "collapsed": true
   },
   "outputs": [],
   "source": [
    "X_p_train, X_p_test, Y_p_train, Y_p_test = train_test_split(X_p_normed, Y_p)"
   ]
  },
  {
   "cell_type": "code",
   "execution_count": 155,
   "metadata": {
    "collapsed": false
   },
   "outputs": [
    {
     "data": {
      "text/plain": [
       "LogisticRegression(C=1.0, class_weight='balanced', dual=False,\n",
       "          fit_intercept=True, intercept_scaling=1, max_iter=100,\n",
       "          multi_class='ovr', n_jobs=1, penalty='l2', random_state=None,\n",
       "          solver='liblinear', tol=0.0001, verbose=0, warm_start=False)"
      ]
     },
     "execution_count": 155,
     "metadata": {},
     "output_type": "execute_result"
    }
   ],
   "source": [
    "logreg = linear_model.LogisticRegression(class_weight='balanced')\n",
    "logreg.fit(X_train, Y_train)"
   ]
  },
  {
   "cell_type": "code",
   "execution_count": 156,
   "metadata": {
    "collapsed": false
   },
   "outputs": [
    {
     "data": {
      "text/plain": [
       "LogisticRegression(C=1.0, class_weight='balanced', dual=False,\n",
       "          fit_intercept=True, intercept_scaling=1, max_iter=100,\n",
       "          multi_class='ovr', n_jobs=1, penalty='l2', random_state=None,\n",
       "          solver='liblinear', tol=0.0001, verbose=0, warm_start=False)"
      ]
     },
     "execution_count": 156,
     "metadata": {},
     "output_type": "execute_result"
    }
   ],
   "source": [
    "logreg_p = linear_model.LogisticRegression(class_weight='balanced')\n",
    "logreg_p.fit(X_p_train, Y_p_train)"
   ]
  },
  {
   "cell_type": "code",
   "execution_count": 157,
   "metadata": {
    "collapsed": false
   },
   "outputs": [],
   "source": [
    "Y_test_pred = logreg.predict(X_test)\n",
    "Y_train_pred = logreg.predict(X_train)"
   ]
  },
  {
   "cell_type": "code",
   "execution_count": 158,
   "metadata": {
    "collapsed": true
   },
   "outputs": [],
   "source": [
    "Y_p_test_pred = logreg_p.predict(X_p_test)\n",
    "Y_p_train_pred = logreg_p.predict(X_p_train)"
   ]
  },
  {
   "cell_type": "code",
   "execution_count": 159,
   "metadata": {
    "collapsed": true
   },
   "outputs": [],
   "source": [
    "from sklearn import metrics"
   ]
  },
  {
   "cell_type": "code",
   "execution_count": 160,
   "metadata": {
    "collapsed": false
   },
   "outputs": [
    {
     "name": "stdout",
     "output_type": "stream",
     "text": [
      "[[526 272]\n",
      " [249 453]]\n",
      "[[176  95]\n",
      " [ 88 142]]\n"
     ]
    }
   ],
   "source": [
    "print(metrics.confusion_matrix(Y_train, Y_train_pred))\n",
    "print(metrics.confusion_matrix(Y_test, Y_test_pred))"
   ]
  },
  {
   "cell_type": "code",
   "execution_count": 162,
   "metadata": {
    "collapsed": false
   },
   "outputs": [
    {
     "name": "stdout",
     "output_type": "stream",
     "text": [
      "precision: 0.5991561181434599\n",
      "recall: 0.6173913043478261\n"
     ]
    }
   ],
   "source": [
    "print(\"precision:\", 142/(95+142))\n",
    "print(\"recall:\", 142/(88+142))"
   ]
  },
  {
   "cell_type": "code",
   "execution_count": 164,
   "metadata": {
    "collapsed": false
   },
   "outputs": [
    {
     "name": "stdout",
     "output_type": "stream",
     "text": [
      "[[140  62]\n",
      " [ 59 146]]\n",
      "[[41 36]\n",
      " [25 34]]\n"
     ]
    }
   ],
   "source": [
    "print(metrics.confusion_matrix(Y_p_train, Y_p_train_pred))\n",
    "print(metrics.confusion_matrix(Y_p_test, Y_p_test_pred))"
   ]
  },
  {
   "cell_type": "code",
   "execution_count": 168,
   "metadata": {
    "collapsed": false
   },
   "outputs": [],
   "source": [
    "from sklearn.ensemble import RandomForestClassifier\n",
    "rf = RandomForestClassifier(n_estimators = 20, max_features=3)"
   ]
  },
  {
   "cell_type": "code",
   "execution_count": 169,
   "metadata": {
    "collapsed": true
   },
   "outputs": [],
   "source": [
    "rf_p = RandomForestClassifier(n_estimators = 20, max_features=3)"
   ]
  },
  {
   "cell_type": "code",
   "execution_count": 170,
   "metadata": {
    "collapsed": false
   },
   "outputs": [
    {
     "name": "stdout",
     "output_type": "stream",
     "text": [
      "[[798   0]\n",
      " [  4 698]]\n",
      "[[202  69]\n",
      " [109 121]]\n",
      "0.997333333333\n",
      "0.644710578842\n"
     ]
    }
   ],
   "source": [
    "rf.fit(X_train, Y_train)\n",
    "Y_train_pred = rf.predict(X_train)\n",
    "Y_test_pred = rf.predict(X_test)\n",
    "print(metrics.confusion_matrix(Y_train, Y_train_pred))\n",
    "print(metrics.confusion_matrix(Y_test, Y_test_pred))\n",
    "print(metrics.accuracy_score(Y_train, Y_train_pred))\n",
    "print(metrics.accuracy_score(Y_test, Y_test_pred))"
   ]
  },
  {
   "cell_type": "code",
   "execution_count": 171,
   "metadata": {
    "collapsed": false
   },
   "outputs": [
    {
     "name": "stdout",
     "output_type": "stream",
     "text": [
      "precision: 0.6368421052631579\n",
      "recall: 0.5260869565217391\n"
     ]
    }
   ],
   "source": [
    "print(\"precision:\", 121/(69+121))\n",
    "print(\"recall:\", 121/(109+121))"
   ]
  },
  {
   "cell_type": "code",
   "execution_count": 172,
   "metadata": {
    "collapsed": false
   },
   "outputs": [
    {
     "name": "stdout",
     "output_type": "stream",
     "text": [
      "[[202   0]\n",
      " [  1 204]]\n",
      "[[51 26]\n",
      " [27 32]]\n",
      "0.997542997543\n",
      "0.610294117647\n"
     ]
    }
   ],
   "source": [
    "rf_p.fit(X_p_train, Y_p_train)\n",
    "Y_p_train_pred = rf_p.predict(X_p_train)\n",
    "Y_p_test_pred = rf_p.predict(X_p_test)\n",
    "print(metrics.confusion_matrix(Y_p_train, Y_p_train_pred))\n",
    "print(metrics.confusion_matrix(Y_p_test, Y_p_test_pred))\n",
    "print(metrics.accuracy_score(Y_p_train, Y_p_train_pred))\n",
    "print(metrics.accuracy_score(Y_p_test, Y_p_test_pred))"
   ]
  },
  {
   "cell_type": "code",
   "execution_count": 173,
   "metadata": {
    "collapsed": false
   },
   "outputs": [
    {
     "name": "stdout",
     "output_type": "stream",
     "text": [
      "[[696 102]\n",
      " [183 519]]\n",
      "[[193  78]\n",
      " [ 93 137]]\n",
      "0.81\n",
      "0.658682634731\n"
     ]
    }
   ],
   "source": [
    "from sklearn.ensemble import GradientBoostingClassifier\n",
    "gbc = GradientBoostingClassifier(n_estimators=80, max_features=3)\n",
    "gbc.fit(X_train, Y_train)\n",
    "Y_train_pred = gbc.predict(X_train)\n",
    "Y_test_pred = gbc.predict(X_test)\n",
    "print(metrics.confusion_matrix(Y_train, Y_train_pred))\n",
    "print(metrics.confusion_matrix(Y_test, Y_test_pred))\n",
    "print(metrics.accuracy_score(Y_train, Y_train_pred))\n",
    "print(metrics.accuracy_score(Y_test, Y_test_pred))"
   ]
  },
  {
   "cell_type": "code",
   "execution_count": 174,
   "metadata": {
    "collapsed": false
   },
   "outputs": [
    {
     "name": "stdout",
     "output_type": "stream",
     "text": [
      "precision: 0.6372093023255814\n",
      "recall: 0.5956521739130435\n"
     ]
    }
   ],
   "source": [
    "print(\"precision:\", 137/(78+137))\n",
    "print(\"recall:\", 137/(93+137))"
   ]
  },
  {
   "cell_type": "code",
   "execution_count": 175,
   "metadata": {
    "collapsed": false
   },
   "outputs": [
    {
     "data": {
      "text/plain": [
       "array([ 0.07228345,  0.01922488,  0.04230033,  0.03844428,  0.07792369,\n",
       "        0.07949242,  0.06424818,  0.07516046,  0.07789931,  0.06241897,\n",
       "        0.05421191,  0.05779532,  0.0281074 ,  0.0990969 ,  0.05390575,\n",
       "        0.0537578 ,  0.02026298,  0.00422525,  0.00299578,  0.00319393,\n",
       "        0.013051  ])"
      ]
     },
     "execution_count": 175,
     "metadata": {},
     "output_type": "execute_result"
    }
   ],
   "source": [
    "gbc.feature_importances_"
   ]
  },
  {
   "cell_type": "code",
   "execution_count": null,
   "metadata": {
    "collapsed": true
   },
   "outputs": [],
   "source": [
    "# ['G', 'FGA', '3PA', 'FTA', 'ORB', \n",
    "# 'TRB.1', 'AST.1', 'STL', 'BLK', 'TOV', \n",
    "# 'PF', 'MP.1', 'PTS.1', 'FG%', '3P%', \n",
    "#'FT%', 'AP','Y1', 'Y2', 'Y3','Y4']"
   ]
  },
  {
   "cell_type": "code",
   "execution_count": 176,
   "metadata": {
    "collapsed": false
   },
   "outputs": [
    {
     "name": "stdout",
     "output_type": "stream",
     "text": [
      "[[169  33]\n",
      " [ 32 173]]\n",
      "[[44 33]\n",
      " [20 39]]\n",
      "0.840294840295\n",
      "0.610294117647\n"
     ]
    }
   ],
   "source": [
    "gbc_p = GradientBoostingClassifier(n_estimators=30, max_features=4)\n",
    "gbc_p.fit(X_p_train, Y_p_train)\n",
    "Y_p_train_pred = gbc_p.predict(X_p_train)\n",
    "Y_p_test_pred = gbc_p.predict(X_p_test)\n",
    "print(metrics.confusion_matrix(Y_p_train, Y_p_train_pred))\n",
    "print(metrics.confusion_matrix(Y_p_test, Y_p_test_pred))\n",
    "print(metrics.accuracy_score(Y_p_train, Y_p_train_pred))\n",
    "print(metrics.accuracy_score(Y_p_test, Y_p_test_pred))"
   ]
  },
  {
   "cell_type": "markdown",
   "metadata": {},
   "source": [
    "## Classification"
   ]
  },
  {
   "cell_type": "code",
   "execution_count": 177,
   "metadata": {
    "collapsed": false
   },
   "outputs": [
    {
     "name": "stderr",
     "output_type": "stream",
     "text": [
      "/Users/farahshih/anaconda/lib/python3.5/site-packages/ipykernel/__main__.py:2: SettingWithCopyWarning: \n",
      "A value is trying to be set on a copy of a slice from a DataFrame\n",
      "\n",
      "See the caveats in the documentation: http://pandas.pydata.org/pandas-docs/stable/indexing.html#indexing-view-versus-copy\n",
      "  from ipykernel import kernelapp as app\n",
      "/Users/farahshih/anaconda/lib/python3.5/site-packages/ipykernel/__main__.py:3: SettingWithCopyWarning: \n",
      "A value is trying to be set on a copy of a slice from a DataFrame\n",
      "\n",
      "See the caveats in the documentation: http://pandas.pydata.org/pandas-docs/stable/indexing.html#indexing-view-versus-copy\n",
      "  app.launch_new_instance()\n"
     ]
    }
   ],
   "source": [
    "df_cleaned[\"Superstar2\"]=\"0\"\n",
    "df_cleaned.Superstar2[(df_cleaned[\"VORP_Max\"]>=0) & (df_cleaned[\"VORP_Max\"]<0.2)]=\"1\"\n",
    "df_cleaned.Superstar2[df_cleaned[\"VORP_Max\"]>=0.2]=\"2\""
   ]
  },
  {
   "cell_type": "code",
   "execution_count": 178,
   "metadata": {
    "collapsed": false
   },
   "outputs": [
    {
     "name": "stderr",
     "output_type": "stream",
     "text": [
      "/Users/farahshih/anaconda/lib/python3.5/site-packages/ipykernel/__main__.py:2: SettingWithCopyWarning: \n",
      "A value is trying to be set on a copy of a slice from a DataFrame\n",
      "\n",
      "See the caveats in the documentation: http://pandas.pydata.org/pandas-docs/stable/indexing.html#indexing-view-versus-copy\n",
      "  from ipykernel import kernelapp as app\n",
      "/Users/farahshih/anaconda/lib/python3.5/site-packages/ipykernel/__main__.py:3: SettingWithCopyWarning: \n",
      "A value is trying to be set on a copy of a slice from a DataFrame\n",
      "\n",
      "See the caveats in the documentation: http://pandas.pydata.org/pandas-docs/stable/indexing.html#indexing-view-versus-copy\n",
      "  app.launch_new_instance()\n"
     ]
    }
   ],
   "source": [
    "df_physical_cleaned[\"Superstar2\"]=\"0\"\n",
    "df_physical_cleaned.Superstar2[(df_physical_cleaned[\"VORP_Max\"]>=0) & (df_physical_cleaned[\"VORP_Max\"]<0.2)]=\"1\"\n",
    "df_physical_cleaned.Superstar2[df_physical_cleaned[\"VORP_Max\"]>=0.2]=\"2\""
   ]
  },
  {
   "cell_type": "code",
   "execution_count": 179,
   "metadata": {
    "collapsed": true
   },
   "outputs": [],
   "source": [
    "Y_3 = df_cleaned.Superstar2"
   ]
  },
  {
   "cell_type": "code",
   "execution_count": 180,
   "metadata": {
    "collapsed": true
   },
   "outputs": [],
   "source": [
    "Y_p = df_physical_cleaned.Superstar2"
   ]
  },
  {
   "cell_type": "code",
   "execution_count": 181,
   "metadata": {
    "collapsed": true
   },
   "outputs": [],
   "source": [
    "X_train, X_test, Y_train, Y_test = train_test_split(X_1_normed, Y_3, random_state=6)"
   ]
  },
  {
   "cell_type": "code",
   "execution_count": 182,
   "metadata": {
    "collapsed": true
   },
   "outputs": [],
   "source": [
    "X_p_train, X_p_test, Y_p_train, Y_p_test = train_test_split(X_p_normed, Y_p, random_state=6)"
   ]
  },
  {
   "cell_type": "code",
   "execution_count": 183,
   "metadata": {
    "collapsed": false
   },
   "outputs": [
    {
     "name": "stdout",
     "output_type": "stream",
     "text": [
      "0.999333333333\n",
      "0.469061876248\n"
     ]
    }
   ],
   "source": [
    "rf = RandomForestClassifier(n_estimators = 20, max_features = 3, class_weight=\"balanced\")\n",
    "rf.fit(X_train, Y_train)\n",
    "Y_train_pred = rf.predict(X_train)\n",
    "Y_test_pred = rf.predict(X_test)\n",
    "print(metrics.accuracy_score(Y_train, Y_train_pred))\n",
    "print(metrics.accuracy_score(Y_test, Y_test_pred))"
   ]
  },
  {
   "cell_type": "code",
   "execution_count": 184,
   "metadata": {
    "collapsed": false
   },
   "outputs": [
    {
     "name": "stdout",
     "output_type": "stream",
     "text": [
      "0.997542997543\n",
      "0.463235294118\n"
     ]
    }
   ],
   "source": [
    "rf_p = RandomForestClassifier(n_estimators = 20, max_features = 3, class_weight=\"balanced\")\n",
    "rf_p.fit(X_p_train, Y_p_train)\n",
    "Y_p_train_pred = rf_p.predict(X_p_train)\n",
    "Y_p_test_pred = rf_p.predict(X_p_test)\n",
    "print(metrics.accuracy_score(Y_p_train, Y_p_train_pred))\n",
    "print(metrics.accuracy_score(Y_p_test, Y_p_test_pred))"
   ]
  },
  {
   "cell_type": "code",
   "execution_count": 185,
   "metadata": {
    "collapsed": false
   },
   "outputs": [
    {
     "name": "stdout",
     "output_type": "stream",
     "text": [
      "0.615333333333\n",
      "0.491017964072\n"
     ]
    }
   ],
   "source": [
    "gbc = GradientBoostingClassifier(n_estimators=30, max_features=3)\n",
    "gbc.fit(X_train, Y_train)\n",
    "Y_train_pred = gbc.predict(X_train)\n",
    "Y_test_pred = gbc.predict(X_test)\n",
    "print(metrics.accuracy_score(Y_train, Y_train_pred))\n",
    "print(metrics.accuracy_score(Y_test, Y_test_pred))"
   ]
  },
  {
   "cell_type": "code",
   "execution_count": 92,
   "metadata": {
    "collapsed": false
   },
   "outputs": [
    {
     "name": "stdout",
     "output_type": "stream",
     "text": [
      "0.872235872236\n",
      "0.529411764706\n"
     ]
    }
   ],
   "source": [
    "gbc_p = GradientBoostingClassifier(n_estimators=50, max_features=3)\n",
    "gbc_p.fit(X_p_train, Y_p_train)\n",
    "Y_p_train_pred = gbc_p.predict(X_p_train)\n",
    "Y_p_test_pred = gbc_p.predict(X_p_test)\n",
    "print(metrics.accuracy_score(Y_p_train, Y_p_train_pred))\n",
    "print(metrics.accuracy_score(Y_p_test, Y_p_test_pred))"
   ]
  },
  {
   "cell_type": "code",
   "execution_count": null,
   "metadata": {
    "collapsed": true
   },
   "outputs": [],
   "source": []
  }
 ],
 "metadata": {
  "kernelspec": {
   "display_name": "Python 3",
   "language": "python",
   "name": "python3"
  },
  "language_info": {
   "codemirror_mode": {
    "name": "ipython",
    "version": 3
   },
   "file_extension": ".py",
   "mimetype": "text/x-python",
   "name": "python",
   "nbconvert_exporter": "python",
   "pygments_lexer": "ipython3",
   "version": "3.5.2"
  }
 },
 "nbformat": 4,
 "nbformat_minor": 2
}
