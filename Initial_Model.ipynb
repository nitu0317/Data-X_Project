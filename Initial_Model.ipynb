{
 "cells": [
  {
   "cell_type": "code",
   "execution_count": 1,
   "metadata": {
    "collapsed": true
   },
   "outputs": [],
   "source": [
    "import numpy as np\n",
    "import pandas as pd\n",
    "from collections import defaultdict\n",
    "from matplotlib import pyplot as plt\n",
    "%matplotlib inline"
   ]
  },
  {
   "cell_type": "code",
   "execution_count": 92,
   "metadata": {
    "collapsed": true
   },
   "outputs": [],
   "source": [
    "df = pd.read_csv(\"new_college2.csv\")"
   ]
  },
  {
   "cell_type": "code",
   "execution_count": 93,
   "metadata": {
    "collapsed": false
   },
   "outputs": [
    {
     "data": {
      "text/html": [
       "<div>\n",
       "<table border=\"1\" class=\"dataframe\">\n",
       "  <thead>\n",
       "    <tr style=\"text-align: right;\">\n",
       "      <th></th>\n",
       "      <th>Name</th>\n",
       "      <th>G</th>\n",
       "      <th>FGA</th>\n",
       "      <th>3PA</th>\n",
       "      <th>FTA</th>\n",
       "      <th>ORB</th>\n",
       "      <th>TRB.1</th>\n",
       "      <th>AST.1</th>\n",
       "      <th>STL</th>\n",
       "      <th>BLK</th>\n",
       "      <th>...</th>\n",
       "      <th>Years</th>\n",
       "      <th>AP</th>\n",
       "      <th>LAT</th>\n",
       "      <th>SR</th>\n",
       "      <th>TQS</th>\n",
       "      <th>SVL</th>\n",
       "      <th>MVL</th>\n",
       "      <th>MBP</th>\n",
       "      <th>VORP</th>\n",
       "      <th>VORP_Max</th>\n",
       "    </tr>\n",
       "  </thead>\n",
       "  <tbody>\n",
       "    <tr>\n",
       "      <th>0</th>\n",
       "      <td>abdelal01</td>\n",
       "      <td>33.500000</td>\n",
       "      <td>5.375016</td>\n",
       "      <td>NaN</td>\n",
       "      <td>2.340140</td>\n",
       "      <td>NaN</td>\n",
       "      <td>3.525</td>\n",
       "      <td>0.325</td>\n",
       "      <td>0.351910</td>\n",
       "      <td>0.484922</td>\n",
       "      <td>...</td>\n",
       "      <td>4.0</td>\n",
       "      <td>0.500000</td>\n",
       "      <td>NaN</td>\n",
       "      <td>NaN</td>\n",
       "      <td>NaN</td>\n",
       "      <td>NaN</td>\n",
       "      <td>NaN</td>\n",
       "      <td>NaN</td>\n",
       "      <td>-0.460000</td>\n",
       "      <td>-0.2</td>\n",
       "    </tr>\n",
       "    <tr>\n",
       "      <th>1</th>\n",
       "      <td>abdulma02</td>\n",
       "      <td>32.000000</td>\n",
       "      <td>21.890625</td>\n",
       "      <td>7.218750</td>\n",
       "      <td>6.406250</td>\n",
       "      <td>NaN</td>\n",
       "      <td>2.950</td>\n",
       "      <td>3.650</td>\n",
       "      <td>1.671875</td>\n",
       "      <td>0.109375</td>\n",
       "      <td>...</td>\n",
       "      <td>2.0</td>\n",
       "      <td>0.000000</td>\n",
       "      <td>NaN</td>\n",
       "      <td>NaN</td>\n",
       "      <td>NaN</td>\n",
       "      <td>NaN</td>\n",
       "      <td>NaN</td>\n",
       "      <td>NaN</td>\n",
       "      <td>-0.088889</td>\n",
       "      <td>1.6</td>\n",
       "    </tr>\n",
       "    <tr>\n",
       "      <th>2</th>\n",
       "      <td>abdulta01</td>\n",
       "      <td>27.666667</td>\n",
       "      <td>11.285641</td>\n",
       "      <td>1.922756</td>\n",
       "      <td>4.859071</td>\n",
       "      <td>NaN</td>\n",
       "      <td>5.800</td>\n",
       "      <td>1.400</td>\n",
       "      <td>1.020833</td>\n",
       "      <td>0.599423</td>\n",
       "      <td>...</td>\n",
       "      <td>3.0</td>\n",
       "      <td>0.333333</td>\n",
       "      <td>NaN</td>\n",
       "      <td>NaN</td>\n",
       "      <td>NaN</td>\n",
       "      <td>NaN</td>\n",
       "      <td>NaN</td>\n",
       "      <td>NaN</td>\n",
       "      <td>-0.216667</td>\n",
       "      <td>0.2</td>\n",
       "    </tr>\n",
       "    <tr>\n",
       "      <th>3</th>\n",
       "      <td>abdursh01</td>\n",
       "      <td>28.000000</td>\n",
       "      <td>14.214286</td>\n",
       "      <td>0.750000</td>\n",
       "      <td>8.892857</td>\n",
       "      <td>NaN</td>\n",
       "      <td>8.400</td>\n",
       "      <td>1.000</td>\n",
       "      <td>1.857143</td>\n",
       "      <td>1.250000</td>\n",
       "      <td>...</td>\n",
       "      <td>1.0</td>\n",
       "      <td>0.000000</td>\n",
       "      <td>NaN</td>\n",
       "      <td>NaN</td>\n",
       "      <td>NaN</td>\n",
       "      <td>NaN</td>\n",
       "      <td>NaN</td>\n",
       "      <td>NaN</td>\n",
       "      <td>1.772727</td>\n",
       "      <td>3.5</td>\n",
       "    </tr>\n",
       "    <tr>\n",
       "      <th>4</th>\n",
       "      <td>ackeral01</td>\n",
       "      <td>29.333333</td>\n",
       "      <td>11.107461</td>\n",
       "      <td>3.282642</td>\n",
       "      <td>3.524432</td>\n",
       "      <td>NaN</td>\n",
       "      <td>5.600</td>\n",
       "      <td>2.800</td>\n",
       "      <td>1.515493</td>\n",
       "      <td>0.430174</td>\n",
       "      <td>...</td>\n",
       "      <td>3.0</td>\n",
       "      <td>0.000000</td>\n",
       "      <td>11.67</td>\n",
       "      <td>NaN</td>\n",
       "      <td>3.35</td>\n",
       "      <td>28.0</td>\n",
       "      <td>32.0</td>\n",
       "      <td>11.0</td>\n",
       "      <td>-0.150000</td>\n",
       "      <td>-0.1</td>\n",
       "    </tr>\n",
       "  </tbody>\n",
       "</table>\n",
       "<p>5 rows × 27 columns</p>\n",
       "</div>"
      ],
      "text/plain": [
       "        Name          G        FGA       3PA       FTA  ORB  TRB.1  AST.1  \\\n",
       "0  abdelal01  33.500000   5.375016       NaN  2.340140  NaN  3.525  0.325   \n",
       "1  abdulma02  32.000000  21.890625  7.218750  6.406250  NaN  2.950  3.650   \n",
       "2  abdulta01  27.666667  11.285641  1.922756  4.859071  NaN  5.800  1.400   \n",
       "3  abdursh01  28.000000  14.214286  0.750000  8.892857  NaN  8.400  1.000   \n",
       "4  ackeral01  29.333333  11.107461  3.282642  3.524432  NaN  5.600  2.800   \n",
       "\n",
       "        STL       BLK    ...     Years        AP    LAT  SR   TQS   SVL   MVL  \\\n",
       "0  0.351910  0.484922    ...       4.0  0.500000    NaN NaN   NaN   NaN   NaN   \n",
       "1  1.671875  0.109375    ...       2.0  0.000000    NaN NaN   NaN   NaN   NaN   \n",
       "2  1.020833  0.599423    ...       3.0  0.333333    NaN NaN   NaN   NaN   NaN   \n",
       "3  1.857143  1.250000    ...       1.0  0.000000    NaN NaN   NaN   NaN   NaN   \n",
       "4  1.515493  0.430174    ...       3.0  0.000000  11.67 NaN  3.35  28.0  32.0   \n",
       "\n",
       "    MBP      VORP  VORP_Max  \n",
       "0   NaN -0.460000      -0.2  \n",
       "1   NaN -0.088889       1.6  \n",
       "2   NaN -0.216667       0.2  \n",
       "3   NaN  1.772727       3.5  \n",
       "4  11.0 -0.150000      -0.1  \n",
       "\n",
       "[5 rows x 27 columns]"
      ]
     },
     "execution_count": 93,
     "metadata": {},
     "output_type": "execute_result"
    }
   ],
   "source": [
    "df.head()"
   ]
  },
  {
   "cell_type": "code",
   "execution_count": 94,
   "metadata": {
    "collapsed": false
   },
   "outputs": [],
   "source": [
    "df_cleaned = df.fillna(np.mean(df, axis=0))"
   ]
  },
  {
   "cell_type": "code",
   "execution_count": 95,
   "metadata": {
    "collapsed": false
   },
   "outputs": [],
   "source": [
    "X = df_cleaned.values[:,1:24]\n",
    "Y = df_cleaned.VORP_Max"
   ]
  },
  {
   "cell_type": "code",
   "execution_count": 63,
   "metadata": {
    "collapsed": false
   },
   "outputs": [],
   "source": [
    "from sklearn.preprocessing import StandardScaler"
   ]
  },
  {
   "cell_type": "code",
   "execution_count": 96,
   "metadata": {
    "collapsed": false
   },
   "outputs": [
    {
     "name": "stderr",
     "output_type": "stream",
     "text": [
      "C:\\Users\\jessiejizhe\\Anaconda2\\envs\\py35\\lib\\site-packages\\sklearn\\utils\\validation.py:429: DataConversionWarning: Data with input dtype object was converted to float64 by StandardScaler.\n",
      "  warnings.warn(msg, _DataConversionWarning)\n"
     ]
    }
   ],
   "source": [
    "X_normed = StandardScaler().fit_transform(X)"
   ]
  },
  {
   "cell_type": "code",
   "execution_count": 97,
   "metadata": {
    "collapsed": false
   },
   "outputs": [
    {
     "data": {
      "text/plain": [
       "array([[  7.84371487e-01,  -1.40524409e+00,  -9.30482893e-16, ...,\n",
       "          2.00474761e-14,   4.66236408e-15,  -3.95994687e-15],\n",
       "       [  3.43245195e-01,   3.71041053e+00,   2.52493684e+00, ...,\n",
       "          2.00474761e-14,   4.66236408e-15,  -3.95994687e-15],\n",
       "       [ -9.31119647e-01,   4.25552198e-01,  -2.49185642e-01, ...,\n",
       "          2.00474761e-14,   4.66236408e-15,  -3.95994687e-15],\n",
       "       ..., \n",
       "       [ -1.42125997e+00,  -1.58430783e+00,  -1.20715687e+00, ...,\n",
       "          2.00474761e-14,   4.66236408e-15,  -3.95994687e-15],\n",
       "       [  2.69724147e-01,  -1.46090596e+00,  -6.68410415e-01, ...,\n",
       "         -2.68904671e+00,   2.78245600e+00,   3.12380257e+00],\n",
       "       [ -1.42125997e+00,  -5.20684128e-01,  -9.13860250e-01, ...,\n",
       "          2.27667261e+00,  -2.46689929e+00,  -2.17067071e+00]])"
      ]
     },
     "execution_count": 97,
     "metadata": {},
     "output_type": "execute_result"
    }
   ],
   "source": [
    "X_normed"
   ]
  },
  {
   "cell_type": "code",
   "execution_count": 66,
   "metadata": {
    "collapsed": true
   },
   "outputs": [],
   "source": [
    "from sklearn import model_selection\n",
    "from sklearn.linear_model import LinearRegression"
   ]
  },
  {
   "cell_type": "code",
   "execution_count": 98,
   "metadata": {
    "collapsed": false
   },
   "outputs": [],
   "source": [
    "ten_fold = model_selection.KFold(n_splits=10)"
   ]
  },
  {
   "cell_type": "code",
   "execution_count": 101,
   "metadata": {
    "collapsed": false
   },
   "outputs": [
    {
     "name": "stdout",
     "output_type": "stream",
     "text": [
      "R Squared score of 10-fold cross validation: [ 0.15145039  0.22525397  0.32016299  0.14910338  0.16388545  0.17984808\n",
      "  0.29173092  0.15702101  0.00577214  0.10614464] \n",
      "MSE score of 10-fold cross validation: [ 2.37346138  1.40533488  1.91667535  2.0060124   2.25896726  2.23012245\n",
      "  2.39392806  2.39110991  1.32297701  2.1740341 ] \n"
     ]
    }
   ],
   "source": [
    "lr_model = LinearRegression()\n",
    "# lr_model.fit(X_normed, Y)\n",
    "\n",
    "R2 = model_selection.cross_val_score(lr_model, X_normed, Y, cv=ten_fold, scoring='r2')\n",
    "MSE = model_selection.cross_val_score(lr_model, X_normed, Y, cv=ten_fold, scoring='neg_mean_squared_error')\n",
    "\n",
    "print(\"R Squared score of 10-fold cross validation: {0} \".format(R2))\n",
    "print(\"MSE score of 10-fold cross validation: {0} \".format(-MSE))"
   ]
  },
  {
   "cell_type": "markdown",
   "metadata": {},
   "source": [
    "## Drop Physical Attributes"
   ]
  },
  {
   "cell_type": "code",
   "execution_count": 78,
   "metadata": {
    "collapsed": false
   },
   "outputs": [
    {
     "data": {
      "text/plain": [
       "Index(['Name', 'G', 'FGA', '3PA', 'FTA', 'ORB', 'TRB.1', 'AST.1', 'STL', 'BLK',\n",
       "       'TOV', 'PF', 'MP.1', 'PTS.1', 'FG%', '3P%', 'FT%', 'Years', 'AP', 'LAT',\n",
       "       'SR', 'TQS', 'SVL', 'MVL', 'MBP', 'VORP'],\n",
       "      dtype='object')"
      ]
     },
     "execution_count": 78,
     "metadata": {},
     "output_type": "execute_result"
    }
   ],
   "source": [
    "df_cleaned.columns"
   ]
  },
  {
   "cell_type": "code",
   "execution_count": 88,
   "metadata": {
    "collapsed": false
   },
   "outputs": [
    {
     "name": "stdout",
     "output_type": "stream",
     "text": [
      "R Squared score of 10-fold cross validation: 0.17841232229766588 \n",
      "MSE score of 10-fold cross validation: [ 0.57979464  0.31920996  0.61376076  0.51867214  0.79700677  0.68723695\n",
      "  0.71480377  0.65678408  0.40785828  0.59986313] \n"
     ]
    },
    {
     "name": "stderr",
     "output_type": "stream",
     "text": [
      "C:\\Users\\jessiejizhe\\Anaconda2\\envs\\py35\\lib\\site-packages\\sklearn\\utils\\validation.py:429: DataConversionWarning: Data with input dtype object was converted to float64 by StandardScaler.\n",
      "  warnings.warn(msg, _DataConversionWarning)\n"
     ]
    }
   ],
   "source": [
    "X_1 = df_cleaned.values[:, 1:-7]\n",
    "Y_1 = df_cleaned.VORP\n",
    "X_1_normed = StandardScaler().fit_transform(X_1)\n",
    "\n",
    "lr_model_1 = LinearRegression()\n",
    "# lr_model.fit(X_normed, Y)\n",
    "\n",
    "R2_1 = model_selection.cross_val_score(lr_model_1, X_1_normed, Y_1, cv=ten_fold, scoring='r2').mean()\n",
    "MSE_1 = model_selection.cross_val_score(lr_model_1, X_1_normed, Y_1, cv=ten_fold, scoring='neg_mean_squared_error')\n",
    "\n",
    "print(\"R Squared score of 10-fold cross validation: {0} \".format(R2_1))\n",
    "print(\"MSE score of 10-fold cross validation: {0} \".format(-MSE_1))"
   ]
  },
  {
   "cell_type": "code",
   "execution_count": 75,
   "metadata": {
    "collapsed": false
   },
   "outputs": [
    {
     "data": {
      "text/plain": [
       "array([[<matplotlib.axes._subplots.AxesSubplot object at 0x0000024E2A238AC8>,\n",
       "        <matplotlib.axes._subplots.AxesSubplot object at 0x0000024E2A2F9E80>,\n",
       "        <matplotlib.axes._subplots.AxesSubplot object at 0x0000024E2884A8D0>,\n",
       "        <matplotlib.axes._subplots.AxesSubplot object at 0x0000024E2A62C1D0>,\n",
       "        <matplotlib.axes._subplots.AxesSubplot object at 0x0000024E2A6720B8>,\n",
       "        <matplotlib.axes._subplots.AxesSubplot object at 0x0000024E2A6A6828>],\n",
       "       [<matplotlib.axes._subplots.AxesSubplot object at 0x0000024E2A6EAB38>,\n",
       "        <matplotlib.axes._subplots.AxesSubplot object at 0x0000024E2A72C588>,\n",
       "        <matplotlib.axes._subplots.AxesSubplot object at 0x0000024E2A77C5C0>,\n",
       "        <matplotlib.axes._subplots.AxesSubplot object at 0x0000024E2A7BFF28>,\n",
       "        <matplotlib.axes._subplots.AxesSubplot object at 0x0000024E2A810390>,\n",
       "        <matplotlib.axes._subplots.AxesSubplot object at 0x0000024E2A854630>],\n",
       "       [<matplotlib.axes._subplots.AxesSubplot object at 0x0000024E2A8A1B38>,\n",
       "        <matplotlib.axes._subplots.AxesSubplot object at 0x0000024E2A8E5470>,\n",
       "        <matplotlib.axes._subplots.AxesSubplot object at 0x0000024E2A931A58>,\n",
       "        <matplotlib.axes._subplots.AxesSubplot object at 0x0000024E2A9762B0>,\n",
       "        <matplotlib.axes._subplots.AxesSubplot object at 0x0000024E2A9C46A0>,\n",
       "        <matplotlib.axes._subplots.AxesSubplot object at 0x0000024E2A9D9710>],\n",
       "       [<matplotlib.axes._subplots.AxesSubplot object at 0x0000024E2AA545C0>,\n",
       "        <matplotlib.axes._subplots.AxesSubplot object at 0x0000024E2AAA18D0>,\n",
       "        <matplotlib.axes._subplots.AxesSubplot object at 0x0000024E2AAE5240>,\n",
       "        <matplotlib.axes._subplots.AxesSubplot object at 0x0000024E2BAFF550>,\n",
       "        <matplotlib.axes._subplots.AxesSubplot object at 0x0000024E2BB316A0>,\n",
       "        <matplotlib.axes._subplots.AxesSubplot object at 0x0000024E2BB7DCC0>],\n",
       "       [<matplotlib.axes._subplots.AxesSubplot object at 0x0000024E2BBBFD68>,\n",
       "        <matplotlib.axes._subplots.AxesSubplot object at 0x0000024E2BC112B0>,\n",
       "        <matplotlib.axes._subplots.AxesSubplot object at 0x0000024E2BC4FBA8>,\n",
       "        <matplotlib.axes._subplots.AxesSubplot object at 0x0000024E2BCA00B8>,\n",
       "        <matplotlib.axes._subplots.AxesSubplot object at 0x0000024E2BCD89E8>,\n",
       "        <matplotlib.axes._subplots.AxesSubplot object at 0x0000024E2BD29EF0>]], dtype=object)"
      ]
     },
     "execution_count": 75,
     "metadata": {},
     "output_type": "execute_result"
    },
    {
     "data": {
      "image/png": "[encoded data removed]",
      "text/plain": [
       "<matplotlib.figure.Figure at 0x24e2a49ef28>"
      ]
     },
     "metadata": {},
     "output_type": "display_data"
    }
   ],
   "source": [
    "df.hist(figsize=(12,8), layout=(5,6))"
   ]
  },
  {
   "cell_type": "markdown",
   "metadata": {},
   "source": [
    "## Raw Data"
   ]
  },
  {
   "cell_type": "code",
   "execution_count": 91,
   "metadata": {
    "collapsed": false
   },
   "outputs": [
    {
     "name": "stdout",
     "output_type": "stream",
     "text": [
      "R Squared score of 10-fold cross validation: 0.17841232229766574 \n",
      "MSE score of 10-fold cross validation: [ 0.57979464  0.31920996  0.61376076  0.51867214  0.79700677  0.68723695\n",
      "  0.71480377  0.65678408  0.40785828  0.59986313] \n"
     ]
    }
   ],
   "source": [
    "X_2 = df_cleaned.values[:, 1:-7]\n",
    "Y_2 = df_cleaned.VORP\n",
    "\n",
    "lr_model_2 = LinearRegression()\n",
    "# lr_model.fit(X_normed, Y)\n",
    "\n",
    "R2_2 = model_selection.cross_val_score(lr_model_2, X_2, Y_2, cv=ten_fold, scoring='r2').mean()\n",
    "MSE_2 = model_selection.cross_val_score(lr_model_2, X_2, Y_2, cv=ten_fold, scoring='neg_mean_squared_error')\n",
    "\n",
    "print(\"R Squared score of 10-fold cross validation: {0} \".format(R2_2))\n",
    "print(\"MSE score of 10-fold cross validation: {0} \".format(-MSE_2))"
   ]
  },
  {
   "cell_type": "code",
   "execution_count": null,
   "metadata": {
    "collapsed": true
   },
   "outputs": [],
   "source": []
  }
 ],
 "metadata": {
  "kernelspec": {
   "display_name": "Python 3",
   "language": "python",
   "name": "python3"
  },
  "language_info": {
   "codemirror_mode": {
    "name": "ipython",
    "version": 3
   },
   "file_extension": ".py",
   "mimetype": "text/x-python",
   "name": "python",
   "nbconvert_exporter": "python",
   "pygments_lexer": "ipython3",
   "version": "3.5.2"
  }
 },
 "nbformat": 4,
 "nbformat_minor": 2
}
